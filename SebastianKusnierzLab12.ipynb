{
  "nbformat": 4,
  "nbformat_minor": 0,
  "metadata": {
    "kernelspec": {
      "display_name": "Python 3",
      "language": "python",
      "name": "python3"
    },
    "language_info": {
      "codemirror_mode": {
        "name": "ipython",
        "version": 3
      },
      "file_extension": ".py",
      "mimetype": "text/x-python",
      "name": "python",
      "nbconvert_exporter": "python",
      "pygments_lexer": "ipython3",
      "version": "3.8.2"
    },
    "colab": {
      "name": "MOwNiT - lab. ćw. 12.ipynb",
      "provenance": [],
      "collapsed_sections": []
    }
  },
  "cells": [
    {
      "cell_type": "markdown",
      "metadata": {
        "id": "l0Ekn3Q_DwuE",
        "colab_type": "text"
      },
      "source": [
        "## Rozwiązywanie równań różniczkowych metodami algebry liniowej \n",
        "\n",
        "#### Zadanie 1\n",
        "Zaimplementuj metodą iteracyjną rozwiązywania układów równań Czebyszewa. \n",
        "\n",
        "\n"
      ]
    },
    {
      "cell_type": "code",
      "metadata": {
        "id": "Woiw9zR9b-Xe",
        "colab_type": "code",
        "colab": {}
      },
      "source": [
        "import numpy as np\n",
        "from scipy.linalg import norm\n",
        "import math\n",
        "import matplotlib.pyplot as plt\n",
        "N = 10\n",
        "\n",
        "\n",
        "def solve_chebyshev(A, b, iter_num, l_max, l_min, eps):\n",
        "    d = (l_max + l_min) / 2\n",
        "    c = (l_max - l_min) / 2\n",
        "    preCond = np.identity(2)\n",
        "    x = np.zeros(N**2)\n",
        "    r = np.matmul(A, x)\n",
        "    r = b - r\n",
        "    iter_count = 0\n",
        "\n",
        "    for i in range(1, iter_num + 1):\n",
        "        iter_count+=1\n",
        "        z = np.linalg.solve(A, r)\n",
        "        alpha = 1\n",
        "        if i == 1:\n",
        "            p = z\n",
        "            alpha = 1 / d\n",
        "        elif (i == 2):\n",
        "            beta = (1 / 2) * (c * alpha) ** 2\n",
        "            alpha = 1 / (d - beta / alpha)\n",
        "            p = z + beta * p\n",
        "        else:\n",
        "            beta = (c * alpha / 2) ** 2\n",
        "            alpha = 1 / (d - beta / alpha)\n",
        "            p = z + beta * p\n",
        "        x = x + alpha * p\n",
        "        r = np.matmul(A, x)\n",
        "        r = b - r\n",
        "        if norm(r) < eps:\n",
        "            return [x, iter_count]\n",
        "    return [x, iter_count]"
      ],
      "execution_count": 0,
      "outputs": []
    },
    {
      "cell_type": "markdown",
      "metadata": {
        "id": "C97LyOtzELeQ",
        "colab_type": "text"
      },
      "source": [
        "#### Zadanie 2\n",
        "Zapoznaj się z prezentacją dr Rycerz o sposobie rozwiązywaniu równania różniczkowego Poissona dla dwóch wymiarów (metoda różnic skończonych).\n",
        "\n",
        "Rozwiąż równanie Poissona w przestrzeni 2D. Funkcja rozkładu źródeł ma postać: $$\\rho(x,y) = \\frac{x+y}{2}$$    \n",
        "Obliczenia dokonujemy w obszarze dwuwymiarowym: $$\\Omega = [0,10] \\times [0,10]$$ Siatkę proszę dobrać samodzielnie tak by obliczenie nie było zbyt długie (na podstawie wcześniejszy testów metod iteracyjnych).   \n",
        "Warunki brzegowe jednorodne Dirichleta: 0 na brzegach. \n",
        "\n",
        "Przedstaw sposób konstrukcji układu równań w metodzie różnic skończonych dla tego równiania. Przedstaw rozwiązanie graficznie. \n",
        "\n",
        "\n"
      ]
    },
    {
      "cell_type": "markdown",
      "metadata": {
        "id": "pm8ElS0yqL3V",
        "colab_type": "text"
      },
      "source": [
        " Nasze równanie do rozwiązania ma postać :     \n",
        "$\\nabla^{2}*\\varphi(x,y) = - \t\\rho(x,y)$    \n",
        "$\\rho(x,y) = \\frac{x+y}{2}$ - funkcja rozkładu żródeł,      \n",
        "$\\nabla^{2}$ - operator Laplace'a,    \n",
        "to równanie można zpisać inaczej mianowcie :   \n",
        "#$\\frac{\\partial^{2}*\\varphi(x,y)}{\\partial*x^{2}}$ + $\\frac{\\partial^{2}*\\varphi(x,y)}{\\partial*y^{2}} = -\\rho(x,y)$ (1)     \n",
        "Warunki brzegowe Dirichleta: 0 na brzegach, czyli :      \n",
        "$\\rho(x,0) = 0, \\rho(0,y) = 0,\\rho(x,n+1) = 0, \\rho(n+1,y) = 0, $     \n",
        "                     \n",
        "Teraz za pomocą przybliżymy pochodne w naszym równaniu różnicami skończonymi w celu zrealizowania tego zadania wprowadzamy siatke 10x10 :    \n",
        "$\\varphi_{i, j} = \\varphi(x_{i}, y_{j}), i = 1,...10, j = 1,...10 $,   \n",
        "$(x_{i}, y_{j})$ - punkty na siatce,    \n",
        "h = 1 - odstęp między punktami                \n",
        "\n",
        "Następnie wyliczymy potrzebne pochodne :                             \n",
        "# $\\frac{\\partial*\\varphi_{i,j}}{\\partial*x} = \\frac{\\varphi_{i+1,j}-\\varphi_{i-1,j}}{2h} + O(h^{2})$, (2)                       \n",
        "# $\\frac{\\partial^{2}*\\varphi_{i,j}}{\\partial*x^{2}} = \\frac{\\varphi_{i+1,j}-2*\\varphi_{i,j}+\\varphi_{i-1,j}}{h^{2}} + O(h^{2})$, (3)              \n",
        "# $\\frac{\\partial*\\varphi_{i,j}}{\\partial*y} = \\frac{\\varphi_{i,j+1}-\\varphi_{i,j-1}}{2h} + O(h^{2})$, (4)                        \n",
        "# $\\frac{\\partial^{2}*\\varphi_{i,j}}{\\partial*y^{2}} = \\frac{\\varphi_{i,j+1}-2*\\varphi_{i,j}+\\varphi_{i,j-1}}{h^{2}} + O(h^{2})$ (5)\n",
        "\n",
        "Następnie podstawiamy równanie 3 oraz 5 do równanie 1, oraz po skróceniu równanie będzie miało postać : \n",
        "#$\\frac{\\varphi(x_{i}, y_{j-1}) + \n",
        "\\varphi(x_{i-1}, y_{j}) - \n",
        "4*\\varphi(x_{i}, y_{j}) +\n",
        "\\varphi(x_{i+1}, y_{j}) +\n",
        "\\varphi(x_{i}, y_{j+1})}{h^{2}} = -\\rho(x,y)$ (6)\n",
        "\n",
        "\n",
        "Samo budowanie siatki wygląda następująco : \n",
        "![alt text](https://drive.google.com/uc?id=1vF5oKcJ8qo0YEZxRPZRe7HczgVigXD0J)         \n",
        "Dla każdego z punktów na siatce $(x_{i}, y_{j})$ nasze rowiązanie (rówanie 6), będzie zależało od 4 punktów : $(x_{i+1}, y_{j})$, $(x_{i-1}, y_{j})$, $(x_{i}, y_{j+1})$, $(x_{i}, y_{j-1})$,           \n",
        "wezmy na przykład punkt $(x_{3}, y_{2})$, wartóść funkcji $\\varphi$ będzia zależała od punktów $(x_{2}, y_{2})$, $(x_{3}, y_{1})$, $(x_{3}, y_{3})$, $(x_{4}, y_{2})$, a sam wzór jest pokazany na rysunku powyżej wynika on z równania (6), gdybyśmy teraz zaczęli numerować te punkty (1...100) zgodnie jak na rysunku\n",
        "to możemy zauważyć że nasz punkt $(x_{3}, y_{2})$ będzie miał numer 13 i będzie zależał odpowiednio od punktów 12, 14, oraz 3 i 23 widzimy że te punkty są oddalone od siebie albo o 1 albo o 10.     \n",
        "     \n",
        "Następnie możemy zauważyć, że musimy policzyć dla każdego punktu z tej siatki wartośc funkcji $\\varphi$ czyli mamy w naszym przypadku 100 niewiadomych ale również dla każdego punktu możemy rozpisać równanie (6), więc mamy 100 równań i 100 niewiadomych, czyli te równania możemy rozwiązać.         \n",
        " \n",
        "Po powyższych rozważaniach nasze równanie w postaci macierzowej będzie wyglądało następująco : \n",
        "![alt text](https://drive.google.com/uc?id=1f2aFg4JxlKh7_nWVui1MupKCcxt2pb_H),     gdzie u nas n = 10 oraz h = 1.        \n",
        "![alt text](https://drive.google.com/uc?id=1SR3f3lzNqu4xRAU3wB2BgIZN8yZiUOE5)\n"
      ]
    },
    {
      "cell_type": "markdown",
      "metadata": {
        "id": "96y6gaPEHWrf",
        "colab_type": "text"
      },
      "source": [
        "Nasza macież A dla pierwszych 25 punktów będzie wyglądała następująco : "
      ]
    },
    {
      "cell_type": "code",
      "metadata": {
        "id": "tz8kSPz2HOVZ",
        "colab_type": "code",
        "colab": {
          "base_uri": "https://localhost:8080/",
          "height": 442
        },
        "outputId": "ba9f0a9c-3dc5-41fb-d64c-43fc0638a72b"
      },
      "source": [
        "def create_matrix_A():\n",
        "  A = np.zeros((N**2, N**2))\n",
        "  for i in range(N**2):\n",
        "      A[i][i] = -4\n",
        "      if i - 1 >= 0: A[i-1][i] = 1.0\n",
        "      if i + 1 < N**2: A[i+1][i] = 1.0\n",
        "      if i - N >= 0: A[i-N][i] = 1.0\n",
        "      if i + N < N**2: A[i+N][i] = 1.0\n",
        "  return A\n",
        "\n",
        "\n",
        "def print_matrix(A, N):\n",
        "    for i in range(N):\n",
        "        for j in range(N):\n",
        "            print(A[i][j], \" \", end='')\n",
        "        print(\"\")\n",
        "\n",
        "\n",
        "A = create_matrix_A()\n",
        "print_matrix(A, 25)"
      ],
      "execution_count": 83,
      "outputs": [
        {
          "output_type": "stream",
          "text": [
            "-4.0  1.0  0.0  0.0  0.0  0.0  0.0  0.0  0.0  0.0  1.0  0.0  0.0  0.0  0.0  0.0  0.0  0.0  0.0  0.0  0.0  0.0  0.0  0.0  0.0  \n",
            "1.0  -4.0  1.0  0.0  0.0  0.0  0.0  0.0  0.0  0.0  0.0  1.0  0.0  0.0  0.0  0.0  0.0  0.0  0.0  0.0  0.0  0.0  0.0  0.0  0.0  \n",
            "0.0  1.0  -4.0  1.0  0.0  0.0  0.0  0.0  0.0  0.0  0.0  0.0  1.0  0.0  0.0  0.0  0.0  0.0  0.0  0.0  0.0  0.0  0.0  0.0  0.0  \n",
            "0.0  0.0  1.0  -4.0  1.0  0.0  0.0  0.0  0.0  0.0  0.0  0.0  0.0  1.0  0.0  0.0  0.0  0.0  0.0  0.0  0.0  0.0  0.0  0.0  0.0  \n",
            "0.0  0.0  0.0  1.0  -4.0  1.0  0.0  0.0  0.0  0.0  0.0  0.0  0.0  0.0  1.0  0.0  0.0  0.0  0.0  0.0  0.0  0.0  0.0  0.0  0.0  \n",
            "0.0  0.0  0.0  0.0  1.0  -4.0  1.0  0.0  0.0  0.0  0.0  0.0  0.0  0.0  0.0  1.0  0.0  0.0  0.0  0.0  0.0  0.0  0.0  0.0  0.0  \n",
            "0.0  0.0  0.0  0.0  0.0  1.0  -4.0  1.0  0.0  0.0  0.0  0.0  0.0  0.0  0.0  0.0  1.0  0.0  0.0  0.0  0.0  0.0  0.0  0.0  0.0  \n",
            "0.0  0.0  0.0  0.0  0.0  0.0  1.0  -4.0  1.0  0.0  0.0  0.0  0.0  0.0  0.0  0.0  0.0  1.0  0.0  0.0  0.0  0.0  0.0  0.0  0.0  \n",
            "0.0  0.0  0.0  0.0  0.0  0.0  0.0  1.0  -4.0  1.0  0.0  0.0  0.0  0.0  0.0  0.0  0.0  0.0  1.0  0.0  0.0  0.0  0.0  0.0  0.0  \n",
            "0.0  0.0  0.0  0.0  0.0  0.0  0.0  0.0  1.0  -4.0  1.0  0.0  0.0  0.0  0.0  0.0  0.0  0.0  0.0  1.0  0.0  0.0  0.0  0.0  0.0  \n",
            "1.0  0.0  0.0  0.0  0.0  0.0  0.0  0.0  0.0  1.0  -4.0  1.0  0.0  0.0  0.0  0.0  0.0  0.0  0.0  0.0  1.0  0.0  0.0  0.0  0.0  \n",
            "0.0  1.0  0.0  0.0  0.0  0.0  0.0  0.0  0.0  0.0  1.0  -4.0  1.0  0.0  0.0  0.0  0.0  0.0  0.0  0.0  0.0  1.0  0.0  0.0  0.0  \n",
            "0.0  0.0  1.0  0.0  0.0  0.0  0.0  0.0  0.0  0.0  0.0  1.0  -4.0  1.0  0.0  0.0  0.0  0.0  0.0  0.0  0.0  0.0  1.0  0.0  0.0  \n",
            "0.0  0.0  0.0  1.0  0.0  0.0  0.0  0.0  0.0  0.0  0.0  0.0  1.0  -4.0  1.0  0.0  0.0  0.0  0.0  0.0  0.0  0.0  0.0  1.0  0.0  \n",
            "0.0  0.0  0.0  0.0  1.0  0.0  0.0  0.0  0.0  0.0  0.0  0.0  0.0  1.0  -4.0  1.0  0.0  0.0  0.0  0.0  0.0  0.0  0.0  0.0  1.0  \n",
            "0.0  0.0  0.0  0.0  0.0  1.0  0.0  0.0  0.0  0.0  0.0  0.0  0.0  0.0  1.0  -4.0  1.0  0.0  0.0  0.0  0.0  0.0  0.0  0.0  0.0  \n",
            "0.0  0.0  0.0  0.0  0.0  0.0  1.0  0.0  0.0  0.0  0.0  0.0  0.0  0.0  0.0  1.0  -4.0  1.0  0.0  0.0  0.0  0.0  0.0  0.0  0.0  \n",
            "0.0  0.0  0.0  0.0  0.0  0.0  0.0  1.0  0.0  0.0  0.0  0.0  0.0  0.0  0.0  0.0  1.0  -4.0  1.0  0.0  0.0  0.0  0.0  0.0  0.0  \n",
            "0.0  0.0  0.0  0.0  0.0  0.0  0.0  0.0  1.0  0.0  0.0  0.0  0.0  0.0  0.0  0.0  0.0  1.0  -4.0  1.0  0.0  0.0  0.0  0.0  0.0  \n",
            "0.0  0.0  0.0  0.0  0.0  0.0  0.0  0.0  0.0  1.0  0.0  0.0  0.0  0.0  0.0  0.0  0.0  0.0  1.0  -4.0  1.0  0.0  0.0  0.0  0.0  \n",
            "0.0  0.0  0.0  0.0  0.0  0.0  0.0  0.0  0.0  0.0  1.0  0.0  0.0  0.0  0.0  0.0  0.0  0.0  0.0  1.0  -4.0  1.0  0.0  0.0  0.0  \n",
            "0.0  0.0  0.0  0.0  0.0  0.0  0.0  0.0  0.0  0.0  0.0  1.0  0.0  0.0  0.0  0.0  0.0  0.0  0.0  0.0  1.0  -4.0  1.0  0.0  0.0  \n",
            "0.0  0.0  0.0  0.0  0.0  0.0  0.0  0.0  0.0  0.0  0.0  0.0  1.0  0.0  0.0  0.0  0.0  0.0  0.0  0.0  0.0  1.0  -4.0  1.0  0.0  \n",
            "0.0  0.0  0.0  0.0  0.0  0.0  0.0  0.0  0.0  0.0  0.0  0.0  0.0  1.0  0.0  0.0  0.0  0.0  0.0  0.0  0.0  0.0  1.0  -4.0  1.0  \n",
            "0.0  0.0  0.0  0.0  0.0  0.0  0.0  0.0  0.0  0.0  0.0  0.0  0.0  0.0  1.0  0.0  0.0  0.0  0.0  0.0  0.0  0.0  0.0  1.0  -4.0  \n"
          ],
          "name": "stdout"
        }
      ]
    },
    {
      "cell_type": "markdown",
      "metadata": {
        "id": "sHNJ4u0Ubnfk",
        "colab_type": "text"
      },
      "source": [
        "A macież b, wygląda następująco :\n"
      ]
    },
    {
      "cell_type": "code",
      "metadata": {
        "id": "gRyLGbmZbtfI",
        "colab_type": "code",
        "colab": {
          "base_uri": "https://localhost:8080/",
          "height": 153
        },
        "outputId": "8ec448cc-c86a-403c-b14a-26fbffabe71c"
      },
      "source": [
        "def create_matrix_b():\n",
        "    phi = lambda x, y: (x + y)/2\n",
        "    b = np.zeros(N**2)\n",
        "    counter = 0\n",
        "    for i in range(1, N+1):\n",
        "        for j in range(1, N+1):\n",
        "            b[counter] = phi(j, i)\n",
        "            counter += 1\n",
        "    return b\n",
        "\n",
        "\n",
        "b = create_matrix_b()\n",
        "print(b)"
      ],
      "execution_count": 84,
      "outputs": [
        {
          "output_type": "stream",
          "text": [
            "[ 1.   1.5  2.   2.5  3.   3.5  4.   4.5  5.   5.5  1.5  2.   2.5  3.\n",
            "  3.5  4.   4.5  5.   5.5  6.   2.   2.5  3.   3.5  4.   4.5  5.   5.5\n",
            "  6.   6.5  2.5  3.   3.5  4.   4.5  5.   5.5  6.   6.5  7.   3.   3.5\n",
            "  4.   4.5  5.   5.5  6.   6.5  7.   7.5  3.5  4.   4.5  5.   5.5  6.\n",
            "  6.5  7.   7.5  8.   4.   4.5  5.   5.5  6.   6.5  7.   7.5  8.   8.5\n",
            "  4.5  5.   5.5  6.   6.5  7.   7.5  8.   8.5  9.   5.   5.5  6.   6.5\n",
            "  7.   7.5  8.   8.5  9.   9.5  5.5  6.   6.5  7.   7.5  8.   8.5  9.\n",
            "  9.5 10. ]\n"
          ],
          "name": "stdout"
        }
      ]
    },
    {
      "cell_type": "markdown",
      "metadata": {
        "id": "KUPf8ooHEM6I",
        "colab_type": "text"
      },
      "source": [
        "#### Zadanie 3\n",
        "Zastosuj do otrzymanego układu równań metody Gaussa-Seidla, SOR i Czebyszewa. Porównaj zbieżność tych metod. "
      ]
    },
    {
      "cell_type": "code",
      "metadata": {
        "id": "YfCMR940fK-x",
        "colab_type": "code",
        "colab": {}
      },
      "source": [
        "def gauss_siedla_solver(A, b, N, eps):\n",
        "    iter_count = 0\n",
        "    x = np.zeros_like(b)\n",
        "    for _ in range(N):\n",
        "        iter_count += 1\n",
        "        x_new = np.zeros_like(x)\n",
        "        for i in range(A.shape[0]):\n",
        "            x_new[i] = (b[i] - np.dot(A[i, :i], x_new[:i]) - np.dot(A[i, i + 1:], x[i + 1:])) / A[i, i]\n",
        "\n",
        "        if np.allclose(x, x_new, atol=eps, rtol=0.):\n",
        "            return [x_new, iter_count]\n",
        "        x = x_new\n",
        "    return [x, iter_count]\n",
        "\n",
        "\n",
        "def sor_solver(A, b, omega, N, eps):\n",
        "    iter_count = 0\n",
        "    x = np.zeros_like(b)\n",
        "    if omega < 0 or omega > 2:\n",
        "        print('omega should be inside (0, 2)')\n",
        "        return [x, -1]\n",
        "    n = b.shape\n",
        "    x_new = np.zeros_like(x)\n",
        "    for _ in range(N):\n",
        "        iter_count += 1\n",
        "        for i in range(n[0]):\n",
        "            new_values_sum = np.dot(A[i, :i], x[:i])\n",
        "            old_values_sum = np.dot(A[i, i + 1:], x_new[i + 1:])\n",
        "            x[i] = (b[i] - (old_values_sum + new_values_sum)) / A[i, i]\n",
        "            x[i] = np.dot(x[i], omega) + np.dot(x_new[i], (1 - omega))\n",
        "        if np.linalg.norm(np.dot(A, x) - b) < eps:\n",
        "            return [x_new, iter_count]\n",
        "        x_new = x\n",
        "    return [x, iter_count]"
      ],
      "execution_count": 0,
      "outputs": []
    },
    {
      "cell_type": "markdown",
      "metadata": {
        "id": "ZU_-frg5fxC2",
        "colab_type": "text"
      },
      "source": [
        "Na początku sprawdzę poprawności działania wszystkich trzech metod :"
      ]
    },
    {
      "cell_type": "code",
      "metadata": {
        "id": "hZXbXTEYDwuG",
        "colab_type": "code",
        "colab": {
          "base_uri": "https://localhost:8080/",
          "height": 391
        },
        "outputId": "9ebb54b6-edc5-49f0-e4af-fdab91690cb0"
      },
      "source": [
        "[res, iter_count] = solve_chebyshev(A, b, 1000, 0, 2, 1e-12)\n",
        "print(\"Ilości iteracji dla metody czebyszewa wynosi : {}\".format(iter_count))\n",
        "print(\"Rozwiazanie :\")\n",
        "print(res)"
      ],
      "execution_count": 86,
      "outputs": [
        {
          "output_type": "stream",
          "text": [
            "Ilości iteracji dla metody czebyszewa wynosi : 1\n",
            "Rozwiazanie :\n",
            "[-12.38060444 -16.96024437 -19.29167572 -20.93570123 -22.34404399\n",
            " -23.634568   -24.82158505 -25.9051561  -26.95653179 -28.34429975\n",
            " -31.5621734  -34.66869733 -37.27075727 -39.60708523 -41.80590671\n",
            " -43.87264298 -45.74661611 -47.34250757 -48.57667129 -49.35849381\n",
            " -49.35509209 -50.88161427 -53.01557078 -55.41597573 -57.89985464\n",
            " -60.30348108 -62.44972884 -64.14158678 -65.14915201 -65.15791209\n",
            " -63.61808687 -63.98709688 -65.49393587 -67.64139225 -70.07405506\n",
            " -72.49169784 -74.6072314  -76.12495869 -76.72043787 -76.00591569\n",
            " -73.47224643 -72.9547505  -73.83168357 -75.58160233 -77.76327552\n",
            " -79.98202382 -81.86254023 -83.03057872 -83.10172509 -81.67306636\n",
            " -78.31023266 -77.02797512 -77.29644558 -78.59005797 -80.41542088\n",
            " -82.31058168 -83.83032698 -84.53309088 -83.98281742 -81.77439199\n",
            " -77.56764274 -75.55047172 -75.23606567 -76.0667631  -77.49776834\n",
            " -79.01455505 -80.11509514 -80.28864039 -79.02206171 -75.87404143\n",
            " -70.63547459 -67.87020335 -67.03058229 -67.44316043 -68.49433433\n",
            " -69.63477502 -70.32685815 -69.98431383 -67.94274761 -63.56423745\n",
            " -56.73001083 -53.2642848  -52.07289972 -52.18096198 -52.90163352\n",
            " -53.70335257 -54.07324862 -53.37900915 -50.70037744 -44.71014991\n",
            " -34.45604651 -30.88402528 -29.81576981 -29.80615425 -30.22788522\n",
            " -30.7037531  -30.88377461 -30.25809672 -27.7696031  -20.61993825]\n"
          ],
          "name": "stdout"
        }
      ]
    },
    {
      "cell_type": "code",
      "metadata": {
        "id": "fSU9H7G7eWle",
        "colab_type": "code",
        "colab": {
          "base_uri": "https://localhost:8080/",
          "height": 391
        },
        "outputId": "6a1417e8-8e65-4eb8-c22e-570f43199c6e"
      },
      "source": [
        "[res, iter_count] = gauss_siedla_solver(A, b, 1000, 1e-12)\n",
        "print(\"Ilości iteracji dla metody Gaussa-Seidla wynosi : {}\".format(iter_count))\n",
        "print(\"Rozwiązanie :\")\n",
        "print(res)"
      ],
      "execution_count": 87,
      "outputs": [
        {
          "output_type": "stream",
          "text": [
            "Ilości iteracji dla metody Gaussa-Seidla wynosi : 686\n",
            "Rozwiązanie :\n",
            "[-12.38060444 -16.96024437 -19.29167572 -20.93570123 -22.34404399\n",
            " -23.634568   -24.82158505 -25.9051561  -26.95653179 -28.34429975\n",
            " -31.5621734  -34.66869733 -37.27075727 -39.60708523 -41.80590671\n",
            " -43.87264298 -45.74661611 -47.34250757 -48.57667129 -49.35849381\n",
            " -49.35509209 -50.88161427 -53.01557078 -55.41597573 -57.89985464\n",
            " -60.30348108 -62.44972884 -64.14158678 -65.14915201 -65.15791209\n",
            " -63.61808687 -63.98709688 -65.49393587 -67.64139225 -70.07405506\n",
            " -72.49169784 -74.6072314  -76.12495869 -76.72043787 -76.00591569\n",
            " -73.47224643 -72.9547505  -73.83168357 -75.58160233 -77.76327552\n",
            " -79.98202382 -81.86254023 -83.03057872 -83.10172509 -81.67306636\n",
            " -78.31023266 -77.02797512 -77.29644558 -78.59005797 -80.41542088\n",
            " -82.31058168 -83.83032698 -84.53309088 -83.98281742 -81.77439199\n",
            " -77.56764274 -75.55047172 -75.23606567 -76.0667631  -77.49776834\n",
            " -79.01455505 -80.11509514 -80.28864039 -79.02206171 -75.87404143\n",
            " -70.63547459 -67.87020335 -67.03058229 -67.44316043 -68.49433433\n",
            " -69.63477502 -70.32685815 -69.98431383 -67.94274761 -63.56423745\n",
            " -56.73001083 -53.2642848  -52.07289972 -52.18096198 -52.90163352\n",
            " -53.70335257 -54.07324862 -53.37900915 -50.70037744 -44.71014991\n",
            " -34.45604651 -30.88402528 -29.81576981 -29.80615425 -30.22788522\n",
            " -30.7037531  -30.88377461 -30.25809672 -27.7696031  -20.61993825]\n"
          ],
          "name": "stdout"
        }
      ]
    },
    {
      "cell_type": "code",
      "metadata": {
        "id": "V7qs4pfSf6fr",
        "colab_type": "code",
        "colab": {
          "base_uri": "https://localhost:8080/",
          "height": 391
        },
        "outputId": "9d0e2c45-8256-4599-f909-f0fa982d3403"
      },
      "source": [
        "[res, iter_count] = sor_solver(A, b, 1.2, 1000, 1e-12)\n",
        "print(\"Ilości iteracji dla metody SOR wynosi : {}\".format(iter_count))\n",
        "print(\"Rozwiązanie :\")\n",
        "print(res)"
      ],
      "execution_count": 88,
      "outputs": [
        {
          "output_type": "stream",
          "text": [
            "Ilości iteracji dla metody SOR wynosi : 749\n",
            "Rozwiązanie :\n",
            "[-12.38060444 -16.96024437 -19.29167572 -20.93570123 -22.34404399\n",
            " -23.634568   -24.82158505 -25.9051561  -26.95653179 -28.34429975\n",
            " -31.5621734  -34.66869733 -37.27075727 -39.60708523 -41.80590671\n",
            " -43.87264298 -45.74661611 -47.34250757 -48.57667129 -49.35849381\n",
            " -49.35509209 -50.88161427 -53.01557078 -55.41597573 -57.89985464\n",
            " -60.30348108 -62.44972884 -64.14158678 -65.14915201 -65.15791209\n",
            " -63.61808687 -63.98709688 -65.49393587 -67.64139225 -70.07405506\n",
            " -72.49169784 -74.6072314  -76.12495869 -76.72043787 -76.00591569\n",
            " -73.47224643 -72.9547505  -73.83168357 -75.58160233 -77.76327552\n",
            " -79.98202382 -81.86254023 -83.03057872 -83.10172509 -81.67306636\n",
            " -78.31023266 -77.02797512 -77.29644558 -78.59005797 -80.41542088\n",
            " -82.31058168 -83.83032698 -84.53309088 -83.98281742 -81.77439199\n",
            " -77.56764274 -75.55047172 -75.23606567 -76.0667631  -77.49776834\n",
            " -79.01455505 -80.11509514 -80.28864039 -79.02206171 -75.87404143\n",
            " -70.63547459 -67.87020335 -67.03058229 -67.44316043 -68.49433433\n",
            " -69.63477502 -70.32685815 -69.98431383 -67.94274761 -63.56423745\n",
            " -56.73001083 -53.2642848  -52.07289972 -52.18096198 -52.90163352\n",
            " -53.70335257 -54.07324862 -53.37900915 -50.70037744 -44.71014991\n",
            " -34.45604651 -30.88402528 -29.81576981 -29.80615425 -30.22788522\n",
            " -30.7037531  -30.88377461 -30.25809672 -27.7696031  -20.61993825]\n"
          ],
          "name": "stdout"
        }
      ]
    },
    {
      "cell_type": "markdown",
      "metadata": {
        "id": "3onSvTQ9hj_9",
        "colab_type": "text"
      },
      "source": [
        "Wykres 2D funkcji $\\varphi(x,y)$ : "
      ]
    },
    {
      "cell_type": "code",
      "metadata": {
        "id": "Hfm_g7f4hjfG",
        "colab_type": "code",
        "colab": {
          "base_uri": "https://localhost:8080/",
          "height": 265
        },
        "outputId": "41c439e7-1f08-4a6a-ff0d-948f39c37a92"
      },
      "source": [
        "x = []\n",
        "y = []\n",
        "for i in range(1, N+1):\n",
        "    for j in range(1, N+1):\n",
        "        x.append(i)\n",
        "        y.append(j)\n",
        "sizes = [1200 for i in range(100)]\n",
        "\n",
        "plt.scatter(x, y, c=res, sizes=sizes, alpha=0.7,\n",
        "            cmap='viridis')\n",
        "plt.colorbar()\n",
        "plt.show()"
      ],
      "execution_count": 93,
      "outputs": [
        {
          "output_type": "display_data",
          "data": {
            "image/png": "[encoded data removed]",
            "text/plain": [
              "<Figure size 432x288 with 2 Axes>"
            ]
          },
          "metadata": {
            "tags": [],
            "needs_background": "light"
          }
        }
      ]
    }
  ]
}