{
  "nbformat": 4,
  "nbformat_minor": 0,
  "metadata": {
    "kernelspec": {
      "display_name": "Python 3",
      "language": "python",
      "name": "python3"
    },
    "language_info": {
      "codemirror_mode": {
        "name": "ipython",
        "version": 3
      },
      "file_extension": ".py",
      "mimetype": "text/x-python",
      "name": "python",
      "nbconvert_exporter": "python",
      "pygments_lexer": "ipython3",
      "version": "3.8.2"
    },
    "colab": {
      "name": "MOwNiT - lab. ćw. 11.ipynb",
      "provenance": [],
      "collapsed_sections": []
    }
  },
  "cells": [
    {
      "cell_type": "markdown",
      "metadata": {
        "id": "5gi7srV78p2y",
        "colab_type": "text"
      },
      "source": [
        "## Rozwiązywanie układów równań liniowych metodami interacyjnymi \n",
        "\n",
        "### Zadanie 1\n",
        "Zaimplementuj metodę Jacobiego. Podaj warunki jej stosowalności. Wygeneruj co najmniej trzy odpowiednie macierze o różnych wielkościach i sprawdź działanie swojej metody. Zwróć uwagę na zbieżność tej metody. \n",
        "\n"
      ]
    },
    {
      "cell_type": "code",
      "metadata": {
        "id": "30FzWUzbfIqa",
        "colab_type": "code",
        "colab": {}
      },
      "source": [
        "import numpy as np\n",
        "import random\n",
        "\n",
        "\n",
        "def jacobi_solver(A, b, N, eps):\n",
        "    iter_count = 0\n",
        "    x = np.zeros_like(b)\n",
        "    for _ in range(N):\n",
        "        iter_count += 1\n",
        "        x_new = np.zeros_like(x)\n",
        "\n",
        "        for i in range(A.shape[0]):\n",
        "            x_new[i] = (b[i] - np.dot(A[i, :i], x[:i]) - np.dot(A[i, i + 1:], x[i + 1:])) / A[i, i]\n",
        "\n",
        "        if np.allclose(x, x_new, atol=eps, rtol=0.):\n",
        "            return [x_new, iter_count]\n",
        "        x = x_new\n",
        "    return [x, iter_count]"
      ],
      "execution_count": 0,
      "outputs": []
    },
    {
      "cell_type": "markdown",
      "metadata": {
        "id": "OQIJXm64f2Sg",
        "colab_type": "text"
      },
      "source": [
        "\n",
        "Warunek konieczny i dostateczny zbieżności jest spełniony m.in. gdy\n",
        "**A** jest **nieredukowalna** i **diagonalnie dominująca**.  \n",
        "Macierz **A** jest **nieredukowalna**, jeżeli poprzez przestawienie wierszy\n",
        "i kolumn nie można jej sprowadzić do postaci blokowej górnej trójkątnej.    \n",
        "\n",
        "Macierz **A** o wymiarze n x n nazywamy **diagonalnie dominującą**, jeśli\n",
        "dla i=1,2,...,n zachodzi nierówność          \n",
        "$|a_{ii}| \\geq \\sum_{j=1, j{\\neq}i}^n |a_{ij}|$"
      ]
    },
    {
      "cell_type": "markdown",
      "metadata": {
        "id": "Z58C1afl7OqV",
        "colab_type": "text"
      },
      "source": [
        "W celu przetestowania metody Jacobiego stworzyłem dodatkową funkcja, która generuje macierz spełniająca powyższe warunki : "
      ]
    },
    {
      "cell_type": "code",
      "metadata": {
        "id": "u01-XMGM7wTY",
        "colab_type": "code",
        "colab": {}
      },
      "source": [
        "def create_rand_matrix(min, max, N):\n",
        "    A = np.zeros((N, N))\n",
        "    for i in range(N):\n",
        "        sum = 0\n",
        "        for j in range(N):\n",
        "            if j >= i: A[i][j] = A[j][i] = random.randint(min, max)\n",
        "            if i != j: sum += abs(A[i][j])\n",
        "        A[i][i] = sum\n",
        "    return A\n",
        "\n",
        "\n",
        "def create_rand_vector(min, max, N):\n",
        "    return np.random.uniform(low=min, high=max + 1, size=(N,))"
      ],
      "execution_count": 0,
      "outputs": []
    },
    {
      "cell_type": "code",
      "metadata": {
        "id": "OFMDx3EY9K-8",
        "colab_type": "code",
        "outputId": "8cf6d6aa-61de-43e3-e153-c1a10b4979e3",
        "colab": {
          "base_uri": "https://localhost:8080/",
          "height": 323
        }
      },
      "source": [
        "def compare_results(A, b, N, eps):\n",
        "    print(\"Numpy solution:\")\n",
        "    print(np.linalg.solve(A, b))\n",
        "    print(\"Jacobi solver solution :\")\n",
        "    print(jacobi_solver(A, b, N, eps)[0])\n",
        "\n",
        "\n",
        "A = create_rand_matrix(-15, 15, 5)\n",
        "b = create_rand_vector(-10, 10, 5)\n",
        "compare_results(A, b, 1000, 1e-10)\n",
        "\n",
        "A = create_rand_matrix(-30, 30, 10)\n",
        "b = create_rand_vector(-20, 20, 10)\n",
        "compare_results(A, b, 1000, 1e-10)\n",
        "\n",
        "A = create_rand_matrix(-50, 50, 15)\n",
        "b = create_rand_vector(-20, 20, 15)\n",
        "compare_results(A, b, 1000, 1e-10)"
      ],
      "execution_count": 125,
      "outputs": [
        {
          "output_type": "stream",
          "text": [
            "Numpy solution:\n",
            "[-0.17473389 -0.38524748 -0.045583    0.49376269  0.21841752]\n",
            "Jacobi solver solution :\n",
            "[-0.17473389 -0.38524748 -0.045583    0.49376269  0.21841752]\n",
            "Numpy solution:\n",
            "[-0.00604408  0.17384578  0.12206283 -0.0012129  -0.06486635 -0.11330034\n",
            "  0.08838833 -0.01760385  0.03724974  0.14555495]\n",
            "Jacobi solver solution :\n",
            "[-0.00604408  0.17384578  0.12206283 -0.0012129  -0.06486635 -0.11330034\n",
            "  0.08838833 -0.01760385  0.03724974  0.14555495]\n",
            "Numpy solution:\n",
            "[-0.02828609 -0.01310856  0.00716221 -0.083047    0.05282158  0.04126928\n",
            " -0.05637648 -0.03280094 -0.04460144 -0.01078921  0.00076575 -0.03387245\n",
            " -0.05972013  0.08359163 -0.04903926]\n",
            "Jacobi solver solution :\n",
            "[-0.02828609 -0.01310856  0.00716221 -0.083047    0.05282158  0.04126928\n",
            " -0.05637648 -0.03280095 -0.04460144 -0.01078921  0.00076575 -0.03387245\n",
            " -0.05972013  0.08359163 -0.04903926]\n"
          ],
          "name": "stdout"
        }
      ]
    },
    {
      "cell_type": "markdown",
      "metadata": {
        "id": "W25SAfdm9rrD",
        "colab_type": "text"
      },
      "source": [
        "Z powyższych wyników, możemy wywnioskować, że zaimplementowana przez nas metoda Jacobiego działa poprawnie (wyniki z dedykowanej biblioteki numpy są identyczne z wynikami z implementacji metody Jacobiego)."
      ]
    },
    {
      "cell_type": "markdown",
      "metadata": {
        "id": "huv-Dc2eExWX",
        "colab_type": "text"
      },
      "source": [
        "### Zadanie 2\n",
        "Zaimplementuj metodę Gaussa-Seidla i kolejnych nadrelaksacji (successive over-relaxation). Podaj warunki stosowalności tych metod. Przeprowadź badanie działania swoich implementacji analogicznie jak w poprzednim zadaniu. Porównaj zbieżność wszystkich trzech metod. "
      ]
    },
    {
      "cell_type": "code",
      "metadata": {
        "id": "uQomY90YBJEn",
        "colab_type": "code",
        "colab": {}
      },
      "source": [
        "def gauss_siedla_solver(A, b, N, eps):\n",
        "    iter_count = 0\n",
        "    x = np.zeros_like(b)\n",
        "    for _ in range(N):\n",
        "        iter_count += 1\n",
        "        x_new = np.zeros_like(x)\n",
        "        for i in range(A.shape[0]):\n",
        "            x_new[i] = (b[i] - np.dot(A[i, :i], x_new[:i]) - np.dot(A[i, i + 1:], x[i + 1:])) / A[i, i]\n",
        "\n",
        "        if np.allclose(x, x_new, atol=eps, rtol=0.):\n",
        "            return [x_new, iter_count]\n",
        "        x = x_new\n",
        "    return [x, iter_count]\n",
        "\n",
        "\n",
        "def sor_solver(A, b, omega, N, eps):\n",
        "    iter_count = 0\n",
        "    x = np.zeros_like(b)\n",
        "    if omega < 0 or omega > 2:\n",
        "        print('omega should be inside (0, 2)')\n",
        "        return [x, -1]\n",
        "    n = b.shape\n",
        "    x_new = np.zeros_like(x)\n",
        "    for _ in range(N):\n",
        "        iter_count += 1\n",
        "        for i in range(n[0]):\n",
        "            new_values_sum = np.dot(A[i, :i], x[:i])\n",
        "            old_values_sum = np.dot(A[i, i + 1:], x_new[i + 1:])\n",
        "            x[i] = (b[i] - (old_values_sum + new_values_sum)) / A[i, i]\n",
        "            x[i] = np.dot(x[i], omega) + np.dot(x_new[i], (1 - omega))\n",
        "        if np.linalg.norm(np.dot(A, x) - b) < eps:\n",
        "            return [x_new, iter_count]\n",
        "        x_new = x\n",
        "    return [x, iter_count]\n"
      ],
      "execution_count": 0,
      "outputs": []
    },
    {
      "cell_type": "markdown",
      "metadata": {
        "id": "NAdVD_p19rND",
        "colab_type": "text"
      },
      "source": [
        "Dla **metody Jacobiego** warunek konieczny, i dostateczny zbieżności jest spełniony m.in. gdy\n",
        "macierz **A** jest **nieredukowalna** i **diagonalnie dominująca**.  \n",
        "Macierz **A** jest **nieredukowalna**, jeżeli poprzez przestawienie wierszy\n",
        "i kolumn nie można jej sprowadzić do postaci blokowej górnej trójkątnej.    \n",
        "\n",
        "Macierz **A** o wymiarze n x n nazywamy **diagonalnie dominującą**, jeśli\n",
        "dla i=1,2,...,n zachodzi nierówność          \n",
        "$|a_{ii}| \\geq \\sum_{j=1, j{\\neq}i}^n |a_{ij}|$       \n",
        "\n",
        "        \n",
        "**Metoda Gaussa-Seidela**, jako ulepszenie metody Jacobiego, zachowuje\n",
        "te same warunki zbieżności. Jeżeli macierz A jest dodatnio określona to\n",
        "metoda Gaussa-Seidela jest zbieżna dla dowolnego wektora\n",
        "początkowego [8, 10].          \n",
        "Metodę Gaussa-Seidela stosuje się niemal wyłącznie do układów\n",
        "z macierzą diagonalnie **dominującą** gdyż w wielu praktycznych\n",
        "zastosowaniach jest to łatwy do spełnienia warunek gwarantujący\n",
        "zbieżność metody.   \n",
        "   \n",
        "**Metoda kolejnych nadrelaksacji (SOR)** jest to modyfikacja metody Gaussa-Seidela(warunki te same) przyspieszająca zbieżność\n",
        "konstruowanego ciągu, polega na przemnożeniu poprawki\n",
        "obliczanej przez odpowiednio dobraną liczbę $\\omega$.     \n",
        "Zwiększając współczynnik $\\omega$ , można próbować przyspieszać jej\n",
        "zbieżność. Parametr $\\omega$ może przyjmować wartości co najwyżej\n",
        "z przedziału (0, 2), gdyż dla pozostałych wartości metoda może nie być\n",
        "zbieżna dla pewnych przybliżeń początkowych.     \n",
        "  \n",
        "Metody Jacobiego i Gaussa-Seidela można ewentualnie stosować do\n",
        "układów bardzo dobrze uwarunkowanych. Znacznie efektywniejsze,\n",
        "szczególnie dla zadań o dużym wskaźniku uwarunkowania, jest użycie\n",
        "metody SOR.   "
      ]
    },
    {
      "cell_type": "markdown",
      "metadata": {
        "id": "9-Wu4oqAP9Eq",
        "colab_type": "text"
      },
      "source": [
        "Test poprawności zaimplementowanych rozwiązań : "
      ]
    },
    {
      "cell_type": "code",
      "metadata": {
        "id": "bgUjQ_EQ8p2z",
        "colab_type": "code",
        "outputId": "a25d1308-0454-48b3-ca50-dfa235135afe",
        "colab": {
          "base_uri": "https://localhost:8080/",
          "height": 578
        }
      },
      "source": [
        "def compare_results(A, b, N, eps, omega):\n",
        "    print(\"Numpy solution:\")\n",
        "    print(np.linalg.solve(A, b))\n",
        "    print(\"Gauss-Siedla solver solution :\")\n",
        "    print(gauss_siedla_solver(A, b, N, eps)[0])\n",
        "    print(\"SOR solver solution :\")\n",
        "    print(sor_solver(A, b, omega, N, eps)[0])\n",
        "\n",
        "\n",
        "A = create_rand_matrix(-15, 15, 5)\n",
        "b = create_rand_vector(-10, 10, 5)\n",
        "compare_results(A, b, 1000, 1e-10, 0.2)\n",
        "\n",
        "A = create_rand_matrix(-30, 30, 10)\n",
        "b = create_rand_vector(-20, 20, 10)\n",
        "compare_results(A, b, 1000, 1e-10, 0.2)\n",
        "\n",
        "A = create_rand_matrix(-50, 50, 25)\n",
        "b = create_rand_vector(-20, 20, 25)\n",
        "compare_results(A, b, 1000, 1e-10, 0.2)"
      ],
      "execution_count": 127,
      "outputs": [
        {
          "output_type": "stream",
          "text": [
            "Numpy solution:\n",
            "[ 0.05738142  0.16928196 -0.32255261 -0.12568326 -0.51333213]\n",
            "Gauss-Siedla solver solution :\n",
            "[ 0.05738142  0.16928196 -0.32255261 -0.12568326 -0.51333213]\n",
            "SOR solver solution :\n",
            "[ 0.05738142  0.16928196 -0.32255261 -0.12568326 -0.51333213]\n",
            "Numpy solution:\n",
            "[-0.11943933 -0.10222989  0.01897715  0.1461937   0.0292072   0.1010488\n",
            " -0.02913119 -0.18115142 -0.12465763  0.06894863]\n",
            "Gauss-Siedla solver solution :\n",
            "[-0.11943933 -0.10222989  0.01897715  0.1461937   0.0292072   0.1010488\n",
            " -0.02913119 -0.18115142 -0.12465763  0.06894863]\n",
            "SOR solver solution :\n",
            "[-0.11943933 -0.10222989  0.01897715  0.1461937   0.0292072   0.1010488\n",
            " -0.02913119 -0.18115142 -0.12465763  0.06894863]\n",
            "Numpy solution:\n",
            "[ 0.02179042 -0.03687972 -0.02531252  0.0287093  -0.01179903 -0.02493491\n",
            "  0.01072436 -0.02668894  0.02116012  0.03959596  0.02395876 -0.0053013\n",
            " -0.03725647  0.01479283 -0.02056916 -0.0191237  -0.03817169 -0.00070036\n",
            " -0.01938442 -0.01272447 -0.01481525  0.00435948  0.0179912   0.01930233\n",
            " -0.01117041]\n",
            "Gauss-Siedla solver solution :\n",
            "[ 0.02179042 -0.03687972 -0.02531252  0.0287093  -0.01179903 -0.02493491\n",
            "  0.01072436 -0.02668894  0.02116012  0.03959596  0.02395876 -0.0053013\n",
            " -0.03725647  0.01479283 -0.02056916 -0.0191237  -0.03817169 -0.00070036\n",
            " -0.01938442 -0.01272447 -0.01481525  0.00435948  0.0179912   0.01930233\n",
            " -0.01117041]\n",
            "SOR solver solution :\n",
            "[ 0.02179042 -0.03687972 -0.02531252  0.0287093  -0.01179903 -0.02493491\n",
            "  0.01072436 -0.02668894  0.02116012  0.03959596  0.02395876 -0.0053013\n",
            " -0.03725647  0.01479283 -0.02056916 -0.0191237  -0.03817169 -0.00070036\n",
            " -0.01938442 -0.01272447 -0.01481525  0.00435948  0.0179912   0.01930233\n",
            " -0.01117041]\n"
          ],
          "name": "stdout"
        }
      ]
    },
    {
      "cell_type": "markdown",
      "metadata": {
        "id": "yft9bxl0QQu9",
        "colab_type": "text"
      },
      "source": [
        "Z powyższych wyników, możemy wywnioskować, że zaimplementowane przez nas metody działają poprawnie (wyniki z dedykowanej biblioteki numpy są identyczne z wynikami z zaimplementowanych metod)."
      ]
    },
    {
      "cell_type": "markdown",
      "metadata": {
        "id": "V1qq45-qqRGE",
        "colab_type": "text"
      },
      "source": [
        "Porówanie zbieżności powyższych metod :"
      ]
    },
    {
      "cell_type": "code",
      "metadata": {
        "id": "G_80vtfyqNyt",
        "colab_type": "code",
        "colab": {}
      },
      "source": [
        "def compare_iter_counters(A, b, N, eps, omega):\n",
        "    print(\"Jacobi solver iterration counter :\")\n",
        "    print(jacobi_solver(A, b, N, eps)[1])\n",
        "    print(\"Gauss-Siedla solver iterration counter :\")\n",
        "    print(gauss_siedla_solver(A, b, N, eps)[1])\n",
        "    print(\"SOR solver iterration counter :\")\n",
        "    print(sor_solver(A, b, omega, N, eps)[1])"
      ],
      "execution_count": 0,
      "outputs": []
    },
    {
      "cell_type": "markdown",
      "metadata": {
        "id": "FCiiJ2xTsA9q",
        "colab_type": "text"
      },
      "source": [
        "Testy przeprowadzilem dla $\\omega$ = 1.9 oraz losowanych wartości [-15,150]"
      ]
    },
    {
      "cell_type": "markdown",
      "metadata": {
        "id": "XT8o9arqrrW-",
        "colab_type": "text"
      },
      "source": [
        "Porównanie ilości iteracji dla macierzy 25x25: "
      ]
    },
    {
      "cell_type": "code",
      "metadata": {
        "id": "rY9aMhMSr677",
        "colab_type": "code",
        "outputId": "7cd828e3-6160-4c23-e447-5fac8deba25d",
        "colab": {
          "base_uri": "https://localhost:8080/",
          "height": 119
        }
      },
      "source": [
        "A = create_rand_matrix(-15, 150, 25)\n",
        "b = create_rand_vector(-15, 150, 25)\n",
        "compare_iter_counters(A, b, 1000, 1e-10, 1.9)"
      ],
      "execution_count": 129,
      "outputs": [
        {
          "output_type": "stream",
          "text": [
            "Jacobi solver iterration counter :\n",
            "847\n",
            "Gauss-Siedla solver iterration counter :\n",
            "15\n",
            "SOR solver iterration counter :\n",
            "19\n"
          ],
          "name": "stdout"
        }
      ]
    },
    {
      "cell_type": "markdown",
      "metadata": {
        "id": "-xNg0JEVrwQI",
        "colab_type": "text"
      },
      "source": [
        "Porównanie ilości iteracji dla macierzy 50x50 : "
      ]
    },
    {
      "cell_type": "code",
      "metadata": {
        "id": "Q2x_glURsR2v",
        "colab_type": "code",
        "outputId": "618427dc-3859-45f1-d95b-e0674e1474ff",
        "colab": {
          "base_uri": "https://localhost:8080/",
          "height": 119
        }
      },
      "source": [
        "A = create_rand_matrix(-15, 150, 50)\n",
        "b = create_rand_vector(-15, 150, 50)\n",
        "compare_iter_counters(A, b, 1000, 1e-10, 1.9)"
      ],
      "execution_count": 130,
      "outputs": [
        {
          "output_type": "stream",
          "text": [
            "Jacobi solver iterration counter :\n",
            "966\n",
            "Gauss-Siedla solver iterration counter :\n",
            "14\n",
            "SOR solver iterration counter :\n",
            "20\n"
          ],
          "name": "stdout"
        }
      ]
    },
    {
      "cell_type": "markdown",
      "metadata": {
        "id": "ZBc_lWKIr1YD",
        "colab_type": "text"
      },
      "source": [
        "Porównanie ilości iteracji dla macierzy 100x100: "
      ]
    },
    {
      "cell_type": "code",
      "metadata": {
        "id": "btJoAZaKsUOC",
        "colab_type": "code",
        "outputId": "0dc7e14c-17d1-42d9-b215-7b3caf327280",
        "colab": {
          "base_uri": "https://localhost:8080/",
          "height": 119
        }
      },
      "source": [
        "A = create_rand_matrix(-15, 150, 100)\n",
        "b = create_rand_vector(-15, 150, 100)\n",
        "compare_iter_counters(A, b, 1000, 1e-10, 1.9)"
      ],
      "execution_count": 131,
      "outputs": [
        {
          "output_type": "stream",
          "text": [
            "Jacobi solver iterration counter :\n",
            "874\n",
            "Gauss-Siedla solver iterration counter :\n",
            "14\n",
            "SOR solver iterration counter :\n",
            "20\n"
          ],
          "name": "stdout"
        }
      ]
    }
  ]
}