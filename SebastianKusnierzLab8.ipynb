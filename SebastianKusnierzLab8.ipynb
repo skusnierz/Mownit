{
  "nbformat": 4,
  "nbformat_minor": 0,
  "metadata": {
    "kernelspec": {
      "display_name": "Python 3",
      "language": "python",
      "name": "python3"
    },
    "language_info": {
      "codemirror_mode": {
        "name": "ipython",
        "version": 3
      },
      "file_extension": ".py",
      "mimetype": "text/x-python",
      "name": "python",
      "nbconvert_exporter": "python",
      "pygments_lexer": "ipython3",
      "version": "3.7.5"
    },
    "colab": {
      "name": "Mownit - lab. ćw. 8.ipynb",
      "provenance": [],
      "collapsed_sections": []
    }
  },
  "cells": [
    {
      "cell_type": "markdown",
      "metadata": {
        "id": "1RNKHDdwuvUZ",
        "colab_type": "text"
      },
      "source": [
        "## Rozwiązywanie równań nieliniowych \n",
        "Funkcje testowe: \n",
        "$$f(x) = 2x^2 -2x + 1$$\n",
        "$$f(x) = -26 + 85x - 91x^2 +44x^3 -8x^4 + x5$$\n",
        "$$f(x) = 4^x - 3^{2x} + 2^{3x} -1$$\n",
        "$$f(x) = 3*x + sin(x) - cos^3(x)$$\n",
        "$$f(x) = 27x^3−3x+1$$\n",
        "\n",
        "\n",
        "\n"
      ]
    },
    {
      "cell_type": "code",
      "metadata": {
        "id": "cJXsDJGBxljt",
        "colab_type": "code",
        "colab": {}
      },
      "source": [
        "import math\n",
        "from tabulate import tabulate\n",
        "from scipy.misc import derivative\n",
        "from scipy.optimize import fsolve\n",
        "\n",
        "f1 = lambda x: 2*x**2 - 2*x + 1\n",
        "f2 = lambda x: -26 + 85*x - 91*x**2 + 44*x**3 - 8*x**4 + x**5\n",
        "f3 = lambda x: 4**x - pow(3, 2*x) + pow(2, 3*x) - 1\n",
        "f4 = lambda x: 3*x + math.sin(x) + pow(math.cos(x), 3)\n",
        "f5 = lambda x: 27*x**3 - 3*x + 1\n",
        "\n",
        "f1_root = \"-\"\n",
        "f2_root = 0.55702551628652596500473628\n",
        "f3_root = [0, 1.8928404581098231259]\n",
        "f4_root = -0.23109960347713549501\n",
        "f5_root = -0.441572652414915"
      ],
      "execution_count": 0,
      "outputs": []
    },
    {
      "cell_type": "markdown",
      "metadata": {
        "id": "G8Rqy76hwjZk",
        "colab_type": "text"
      },
      "source": [
        "### Zadanie 1:\n",
        "Zaimplementuj metodą bisekcji. Sprawdź jej działanie na powyższych funkcjach testowych. Dobierz samodzielnie przedział dla poszukiwania miejsca zerowego. Sprawdź dokładnośc metody. \n",
        "Oceń szybkość zbieżności dla każdej testowanej funkcji. Zwróć uwagę na sposób doboru E.\n"
      ]
    },
    {
      "cell_type": "code",
      "metadata": {
        "id": "gA4sZyCuwlhR",
        "colab_type": "code",
        "colab": {
          "base_uri": "https://localhost:8080/",
          "height": 238
        },
        "outputId": "65acd05b-5979-450e-d89a-7fb73ea594a2"
      },
      "source": [
        "def bisection(f, a, b, epsilon):\n",
        "    if f(a) * f(b) >= 0:\n",
        "        return \"-\", 0\n",
        "    counter = 1\n",
        "    c = (a + b) / 2.0\n",
        "    while (b - a) / 2.0 > epsilon:\n",
        "        if f(c) == 0:\n",
        "            return c\n",
        "        elif f(a) * f(c) < 0:\n",
        "            b = c\n",
        "        else:\n",
        "            a = c\n",
        "        c = (a + b) / 2.0\n",
        "        counter += 1\n",
        "    return c, counter\n",
        "\n",
        "\n",
        "bis_f1_val, bis_f1_counter = bisection(f1, -10.0, 10.0, 0.000001)\n",
        "bis_f2_val, bis_f2_counter = bisection(f2, 0.0, 1.0, 0.000001)\n",
        "bis_f3_val, bis_f3_counter = bisection(f3, 1.0, 2.0, 0.000001)\n",
        "bis_f4_val, bis_f4_counter = bisection(f4, -1.0, 0.0, 0.000001)\n",
        "bis_f5_val, bis_f5_counter = bisection(f5, -1.0, 0.0, 0.000001)\n",
        "\n",
        "output = [\n",
        "          [\"f(x) = 2x^2 - 2x + 1\", f1_root, bis_f1_val, bis_f1_counter, \"-\"],\n",
        "          [\"f(x) = -26 + 85x - 91x^2 + 44x^3 - 8x^4 + x^5 \", f2_root, bis_f2_val, bis_f2_counter, (abs(f2_root - bis_f2_val))*100 / abs(f2_root)],\n",
        "          [\"f(x) = 4^x - 3^2x + 2^3x - 1\", f3_root[1], bis_f3_val, bis_f3_counter, abs(f3_root[1] - bis_f3_val)*100 / abs(f3_root[1])],\n",
        "          [\"f(x) = 3x + sin(x) + cos^3(x)\", f4_root, bis_f4_val, bis_f4_counter, abs(f4_root - bis_f4_val)*100 / abs(f4_root)],\n",
        "          [\"f(x) = 27x^3 - 3x + 1\", f5_root, bis_f5_val, bis_f5_counter, abs(f5_root - bis_f5_val)*100 / abs(f5_root)]\n",
        "]\n",
        "\n",
        "print(tabulate(output, headers=['Function', 'Root value', 'bisection value', 'number of divisions', 'accuracy of calculations [%]'],\n",
        "                   tablefmt=\"fancy_grid\", floatfmt=\".10f\"))"
      ],
      "execution_count": 23,
      "outputs": [
        {
          "output_type": "stream",
          "text": [
            "╒═══════════════════════════════════════════════╤══════════════════════╤══════════════════════╤═══════════════════════╤════════════════════════════════╕\n",
            "│ Function                                      │ Root value           │ bisection value      │   number of divisions │ accuracy of calculations [%]   │\n",
            "╞═══════════════════════════════════════════════╪══════════════════════╪══════════════════════╪═══════════════════════╪════════════════════════════════╡\n",
            "│ f(x) = 2x^2 - 2x + 1                          │ -                    │ -                    │                     0 │ -                              │\n",
            "├───────────────────────────────────────────────┼──────────────────────┼──────────────────────┼───────────────────────┼────────────────────────────────┤\n",
            "│ f(x) = -26 + 85x - 91x^2 + 44x^3 - 8x^4 + x^5 │ 0.557025516286526    │ 0.5570249557495117   │                    20 │ 0.00010063040163511159         │\n",
            "├───────────────────────────────────────────────┼──────────────────────┼──────────────────────┼───────────────────────┼────────────────────────────────┤\n",
            "│ f(x) = 4^x - 3^2x + 2^3x - 1                  │ 1.892840458109823    │ 1.8928403854370117   │                    20 │ 3.8393521764032844e-06         │\n",
            "├───────────────────────────────────────────────┼──────────────────────┼──────────────────────┼───────────────────────┼────────────────────────────────┤\n",
            "│ f(x) = 3x + sin(x) + cos^3(x)                 │ -0.23109960347713548 │ -0.23109912872314453 │                    20 │ 0.00020543262896610077         │\n",
            "├───────────────────────────────────────────────┼──────────────────────┼──────────────────────┼───────────────────────┼────────────────────────────────┤\n",
            "│ f(x) = 27x^3 - 3x + 1                         │ -0.441572652414915   │ -0.4415731430053711  │                    20 │ 0.00011110073357341703         │\n",
            "╘═══════════════════════════════════════════════╧══════════════════════╧══════════════════════╧═══════════════════════╧════════════════════════════════╛\n"
          ],
          "name": "stdout"
        }
      ]
    },
    {
      "cell_type": "markdown",
      "metadata": {
        "id": "pzYQBmJuwilK",
        "colab_type": "text"
      },
      "source": [
        "### Zadanie 2: \n",
        "Zaimplementuj metodą Newtona-Raphsona.  Sprawdź jej działanie na powyższych funkcjach testowych. Punkt startowy i przedział poszukiwań dobierz samodzielnie (jakie warunki?). \n",
        "\n"
      ]
    },
    {
      "cell_type": "code",
      "metadata": {
        "id": "5PDWwaoZuvUb",
        "colab_type": "code",
        "colab": {
          "base_uri": "https://localhost:8080/",
          "height": 306
        },
        "outputId": "e46abd2a-0f70-4158-a6e8-29c72db35862"
      },
      "source": [
        "def newtonRaphson(x, f, derivFunc, epsilon):\n",
        "    h = f(x) / derivFunc(x)\n",
        "    while abs(h) >= epsilon:\n",
        "        h = f(x) / derivFunc(x)\n",
        "        x = x - h\n",
        "    return x\n",
        "\n",
        "\n",
        "f1_deriv = lambda x: derivative(f1, x, dx=1e-6)\n",
        "f2_deriv = lambda x: derivative(f2, x, dx=1e-6)\n",
        "f3_deriv = lambda x: derivative(f3, x, dx=1e-6)\n",
        "f4_deriv = lambda x: derivative(f4, x, dx=1e-6)\n",
        "f5_deriv = lambda x: derivative(f5, x, dx=1e-6)\n",
        "\n",
        "output = [\n",
        "          [\"f(x) = 2x^2 - 2x + 1\", f1_root, newtonRaphson(0, f1, f1_deriv, 0.000001)],\n",
        "          [\"f(x) = -26 + 85x - 91x^2 + 44x^3 - 8x^4 + x^5 \", f2_root, newtonRaphson(0, f2, f2_deriv, 0.000001)],\n",
        "          [\"f(x) = 4^x - 3^2x + 2^3x - 1\", f3_root[1], newtonRaphson(1.5, f3, f3_deriv, 0.000001)],\n",
        "          [\"f(x) = 3x + sin(x) + cos^3(x)\", f4_root, newtonRaphson(0, f4, f4_deriv, 0.000001)],\n",
        "          [\"f(x) = 27x^3 - 3x + 1\", f5_root, newtonRaphson(0, f5, f5_deriv, 0.000001)]\n",
        "]\n",
        "\n",
        "print(tabulate(output, headers=['Function', 'Root value', 'Newton Raphson value'],\n",
        "                   tablefmt=\"fancy_grid\", floatfmt=\".10f\"))"
      ],
      "execution_count": 24,
      "outputs": [
        {
          "output_type": "stream",
          "text": [
            "╒═══════════════════════════════════════════════╤══════════════════════╤════════════════════════╕\n",
            "│ Function                                      │ Root value           │   Newton Raphson value │\n",
            "╞═══════════════════════════════════════════════╪══════════════════════╪════════════════════════╡\n",
            "│ f(x) = 2x^2 - 2x + 1                          │ -                    │         nan            │\n",
            "├───────────────────────────────────────────────┼──────────────────────┼────────────────────────┤\n",
            "│ f(x) = -26 + 85x - 91x^2 + 44x^3 - 8x^4 + x^5 │ 0.557025516286526    │           0.5570255163 │\n",
            "├───────────────────────────────────────────────┼──────────────────────┼────────────────────────┤\n",
            "│ f(x) = 4^x - 3^2x + 2^3x - 1                  │ 1.892840458109823    │           1.8928404581 │\n",
            "├───────────────────────────────────────────────┼──────────────────────┼────────────────────────┤\n",
            "│ f(x) = 3x + sin(x) + cos^3(x)                 │ -0.23109960347713548 │          -0.2310996035 │\n",
            "├───────────────────────────────────────────────┼──────────────────────┼────────────────────────┤\n",
            "│ f(x) = 27x^3 - 3x + 1                         │ -0.441572652414915   │          -0.4415726524 │\n",
            "╘═══════════════════════════════════════════════╧══════════════════════╧════════════════════════╛\n"
          ],
          "name": "stdout"
        },
        {
          "output_type": "stream",
          "text": [
            "/usr/local/lib/python3.6/dist-packages/ipykernel_launcher.py:4: RuntimeWarning: divide by zero encountered in double_scalars\n",
            "  after removing the cwd from sys.path.\n",
            "/usr/local/lib/python3.6/dist-packages/scipy/misc/common.py:119: RuntimeWarning: invalid value encountered in double_scalars\n",
            "  val += weights[k]*func(x0+(k-ho)*dx,*args)\n"
          ],
          "name": "stderr"
        }
      ]
    },
    {
      "cell_type": "markdown",
      "metadata": {
        "id": "flonS3NcPEV-",
        "colab_type": "text"
      },
      "source": [
        "Warunki, które muszą zostać spełnione : \n",
        "![alt text](https://drive.google.com/uc?id=1_9mkTKCSr4Q3Vg6WCbUh9zr0dMYp4piO)"
      ]
    },
    {
      "cell_type": "markdown",
      "metadata": {
        "id": "EmyxK96bMojX",
        "colab_type": "text"
      },
      "source": [
        "### Zadanie 3: \n",
        "Zaimplementuje metodę siecznych (Eulera). Przedział poszukiwań dobierz samodzielnie (jakie warunki?). \n",
        "\n"
      ]
    },
    {
      "cell_type": "code",
      "metadata": {
        "id": "JtoQvxA8S7Nf",
        "colab_type": "code",
        "colab": {
          "base_uri": "https://localhost:8080/",
          "height": 238
        },
        "outputId": "9c1eba02-5f6c-49b7-db2e-34a34d06dee3"
      },
      "source": [
        "def secant(x1, x2, f, eps):\n",
        "    n = 0\n",
        "    xm = 0\n",
        "    x0 = 0\n",
        "    c = 0\n",
        "    if f(x1) * f(x2) < 0:\n",
        "        while True:\n",
        "            x0 = ((x1 * f(x2) - x2 * f(x1)) /\n",
        "                  (f(x2) - f(x1)))\n",
        "            c = f(x1) * f(x0)\n",
        "            x1 = x2\n",
        "            x2 = x0\n",
        "            n += 1\n",
        "            if c == 0:\n",
        "                break\n",
        "            xm = ((x1 * f(x2) - x2 * f(x1)) /\n",
        "                  (f(x2) - f(x1)))\n",
        "\n",
        "            if abs(xm - x0) < eps:\n",
        "                break\n",
        "        return x0\n",
        "    else:\n",
        "        return \"-\"\n",
        "\n",
        "\n",
        "output = [\n",
        "          [\"f(x) = 2x^2 - 2x + 1\", f1_root, secant(0.0, 10.0, f1, 0.000001)],\n",
        "          [\"f(x) = -26 + 85x - 91x^2 + 44x^3 - 8x^4 + x^5 \", f2_root, secant(0.0, 1.0, f2, 0.000001)],\n",
        "          [\"f(x) = 4^x - 3^2x + 2^3x - 1\", f3_root[1], secant(1.0, 2.0, f3, 0.000001)],\n",
        "          [\"f(x) = 3x + sin(x) + cos^3(x)\", f4_root, secant(-1.0, 0.0, f4, 0.000001)],\n",
        "          [\"f(x) = 27x^3 - 3x + 1\", f5_root, secant(-1.0, 0.0,  f5, 0.000001)]\n",
        "]\n",
        "\n",
        "print(tabulate(output, headers=['Function', 'Root value', 'Secant method value'],\n",
        "                   tablefmt=\"fancy_grid\", floatfmt=\".10f\"))"
      ],
      "execution_count": 25,
      "outputs": [
        {
          "output_type": "stream",
          "text": [
            "╒═══════════════════════════════════════════════╤══════════════════════╤═══════════════════════╕\n",
            "│ Function                                      │ Root value           │ Secant method value   │\n",
            "╞═══════════════════════════════════════════════╪══════════════════════╪═══════════════════════╡\n",
            "│ f(x) = 2x^2 - 2x + 1                          │ -                    │ -                     │\n",
            "├───────────────────────────────────────────────┼──────────────────────┼───────────────────────┤\n",
            "│ f(x) = -26 + 85x - 91x^2 + 44x^3 - 8x^4 + x^5 │ 0.557025516286526    │ 0.5570257928969456    │\n",
            "├───────────────────────────────────────────────┼──────────────────────┼───────────────────────┤\n",
            "│ f(x) = 4^x - 3^2x + 2^3x - 1                  │ 1.892840458109823    │ 1.8928404294905141    │\n",
            "├───────────────────────────────────────────────┼──────────────────────┼───────────────────────┤\n",
            "│ f(x) = 3x + sin(x) + cos^3(x)                 │ -0.23109960347713548 │ -0.23109960190871337  │\n",
            "├───────────────────────────────────────────────┼──────────────────────┼───────────────────────┤\n",
            "│ f(x) = 27x^3 - 3x + 1                         │ -0.441572652414915   │ -0.4415726502024014   │\n",
            "╘═══════════════════════════════════════════════╧══════════════════════╧═══════════════════════╛\n"
          ],
          "name": "stdout"
        }
      ]
    },
    {
      "cell_type": "markdown",
      "metadata": {
        "id": "Yji9u2OQTrW4",
        "colab_type": "text"
      },
      "source": [
        "Warunki, które muszą zostać spełnione :    \n",
        "       \n",
        "        \n",
        "Funkcja f(x) jest określona - dla każdej wartości argumentu x z przedziału <a,b> potrafimy policzyć wartość funkcji.  \n",
        "\n",
        "Funkcja f(x) jest ciągła -  jej wartości nie \"wykonują\" nagłych skoków. Funkcja przebiega przez wszystkie wartości pośrednie - nie istnieją zatem przerwy w kolejnych wartościach funkcji.    \n",
        "\n",
        "Funkcja f(x) na krańcach przedziału <a,b> przyjmuje różne znaki (nie obowiązuje to punktów x1 i x2). Ponieważ funkcja, zgodnie z poprzednim wymogiem, jest ciągła, to przyjmuje w przedziale <a,b> wszystkie wartości pośrednie pomiędzy f(a) i f(b).  Wartości te mają różne znaki (czyli leżą po różnych stronach osi OX), zatem musi być taki punkt xo w przedziale <a,b>, dla którego funkcja przyjmuje wartość pośrednią:\n",
        "\n",
        "f(a) < f(xo) = 0 < f(b) lub f(a) > f(xo) = 0 > f(b)\n",
        "\n",
        "Dodatkowo w przedziale <a,b> pierwsza pochodna f '(x) jest różna od zera. Nie istnieje zatem minimum lub maksimum lokalne. Ten warunek gwarantuje nam, iż sieczna nie będzie równoległa do osi OX, co uniemożliwiłoby wyznaczenie jej punktu przecięcia z tą osią."
      ]
    },
    {
      "cell_type": "markdown",
      "metadata": {
        "id": "1ydr7aSfQN6i",
        "colab_type": "text"
      },
      "source": [
        "### Zadanie 4: \n",
        "Wybierz jedną z metod rozwiązywania równań nieliniowych dostępna w bibliotece numpy lub scipy.  Porównaj dokładność wszystkiech czterech metod."
      ]
    },
    {
      "cell_type": "code",
      "metadata": {
        "id": "bzyntK61CmD8",
        "colab_type": "code",
        "colab": {
          "base_uri": "https://localhost:8080/",
          "height": 306
        },
        "outputId": "28c892b7-79b4-45e5-f625-e2f5b4ac1cf2"
      },
      "source": [
        "output = [\n",
        "          [\"f(x) = 2x^2 - 2x + 1\", f1_root, \"-\"],\n",
        "          [\"f(x) = -26 + 85x - 91x^2 + 44x^3 - 8x^4 + x^5 \", f2_root, fsolve(func=f2, x0=0)[0]],\n",
        "          [\"f(x) = 4^x - 3^2x + 2^3x - 1\", f3_root[1], fsolve(func=f3, x0=1.5)[0]],\n",
        "          [\"f(x) = 3x + sin(x) + cos^3(x)\", f4_root, fsolve(func=f4, x0=0)[0]],\n",
        "          [\"f(x) = 27x^3 - 3x + 1\", f5_root, fsolve(func=f5, x0=-0.5)[0]]\n",
        "]\n",
        "print(tabulate(output, headers=['Function', 'root value', 'Numpy method value'],\n",
        "                   tablefmt=\"fancy_grid\", floatfmt=\".10f\"))\n",
        "\n",
        "bis_errors = [(abs(f2_root - bis_f2_val)*100 / abs(f2_root)), \n",
        "              (abs(f3_root[1] - bis_f3_val)*100 / abs(f3_root[1])),\n",
        "              (abs(f4_root - bis_f4_val)*100 / abs(f4_root)), \n",
        "              (abs(f5_root - bis_f5_val)*100 / abs(f5_root))]\n",
        "\n",
        "bis_error = sum(bis_errors) / 4\n",
        "\n",
        "\n",
        "newton_errors = [\n",
        "    abs(f2_root - newtonRaphson(0, f2, f2_deriv, 0.000001))*100 / abs(f2_root),\n",
        "    abs(f3_root[1] - newtonRaphson(1.5, f3, f3_deriv, 0.000001))*100 / abs(f3_root[1]),\n",
        "    abs(f4_root - newtonRaphson(0, f4, f4_deriv, 0.000001))*100 / abs(f4_root),\n",
        "    abs(f5_root - newtonRaphson(0, f5, f5_deriv, 0.000001))*100 / abs(f5_root),\n",
        "]\n",
        "newton_error = sum(newton_errors) / 4\n",
        "\n",
        "scipy_errors = [\n",
        "    abs(f2_root - fsolve(func=f2, x0=0, xtol=0.000001)[0]) * 100 / abs(f2_root),\n",
        "    abs(f3_root[1] - fsolve(func=f3, x0=1.5, xtol=0.000001)[0]) * 100 / abs(f3_root[1]),\n",
        "    abs(f4_root - fsolve(func=f4, x0=0, xtol=0.000001)[0]) * 100 / abs(f4_root),\n",
        "    abs(f5_root - fsolve(func=f5, x0=-0.5, xtol=0.000001)[0]) * 100 / abs(f5_root),\n",
        "]\n",
        "scipy_error = sum(scipy_errors) / 4\n",
        "\n",
        "secant_errors = [\n",
        "    abs(f2_root - secant(0.0, 1.0, f2, 0.000001)) * 100 / abs(f2_root),\n",
        "    abs(f3_root[1] - secant(1.0, 2.0, f3, 0.000001)) * 100 / abs(f3_root[1]),\n",
        "    abs(f4_root - secant(-1.0, 0.0, f4, 0.000001)) * 100 / abs(f4_root),\n",
        "    abs(f5_root - secant(-1.0, 0.0,  f5, 0.000001)) * 100 / abs(f5_root),\n",
        "]\n",
        "secant_error = sum(secant_errors) / 4\n",
        "\n",
        "print(\"Średni błąd dla metody Newtona Raphonsa \" + str(newton_error))\n",
        "print(\"Średni błąd dla metody bisekcji \" + str(bis_error))\n",
        "print(\"Średni błąd dla metody z biblioteki scipy \" + str(scipy_error))\n",
        "print(\"Średni błąd dla metody siecznych \" + str(secant_error))"
      ],
      "execution_count": 27,
      "outputs": [
        {
          "output_type": "stream",
          "text": [
            "╒═══════════════════════════════════════════════╤══════════════════════╤══════════════════════╕\n",
            "│ Function                                      │ root value           │ Numpy method value   │\n",
            "╞═══════════════════════════════════════════════╪══════════════════════╪══════════════════════╡\n",
            "│ f(x) = 2x^2 - 2x + 1                          │ -                    │ -                    │\n",
            "├───────────────────────────────────────────────┼──────────────────────┼──────────────────────┤\n",
            "│ f(x) = -26 + 85x - 91x^2 + 44x^3 - 8x^4 + x^5 │ 0.557025516286526    │ 0.5570255162864948   │\n",
            "├───────────────────────────────────────────────┼──────────────────────┼──────────────────────┤\n",
            "│ f(x) = 4^x - 3^2x + 2^3x - 1                  │ 1.892840458109823    │ 1.8928404581098226   │\n",
            "├───────────────────────────────────────────────┼──────────────────────┼──────────────────────┤\n",
            "│ f(x) = 3x + sin(x) + cos^3(x)                 │ -0.23109960347713548 │ -0.23109960347713548 │\n",
            "├───────────────────────────────────────────────┼──────────────────────┼──────────────────────┤\n",
            "│ f(x) = 27x^3 - 3x + 1                         │ -0.441572652414915   │ -0.44157265241491533 │\n",
            "╘═══════════════════════════════════════════════╧══════════════════════╧══════════════════════╛\n",
            "Średni błąd dla metody Newtona Raphonsa 1.2193867931351653e-11\n",
            "Średni błąd dla metody bisekcji 0.00010525077908775816\n",
            "Średni błąd dla metody z biblioteki scipy 2.750605836040558e-10\n",
            "Średni błąd dla metody siecznych 1.3087547659246419e-05\n"
          ],
          "name": "stdout"
        }
      ]
    },
    {
      "cell_type": "markdown",
      "metadata": {
        "id": "Go-Hn3szL7EE",
        "colab_type": "text"
      },
      "source": [
        "Z powyższych wyników widzimy że najmniejszy błąd pomimo ustawienia tej samej dokładności która wynosi 0.000001 jest podczas użycia użycia metody Newtona Raphonsa."
      ]
    }
  ]
}