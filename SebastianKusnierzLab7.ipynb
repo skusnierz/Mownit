{
  "nbformat": 4,
  "nbformat_minor": 0,
  "metadata": {
    "kernelspec": {
      "display_name": "Python 3",
      "language": "python",
      "name": "python3"
    },
    "language_info": {
      "codemirror_mode": {
        "name": "ipython",
        "version": 3
      },
      "file_extension": ".py",
      "mimetype": "text/x-python",
      "name": "python",
      "nbconvert_exporter": "python",
      "pygments_lexer": "ipython3",
      "version": "3.7.5"
    },
    "colab": {
      "name": "MOwNiT lab. - ćw. 7.ipynb",
      "provenance": [],
      "collapsed_sections": []
    }
  },
  "cells": [
    {
      "cell_type": "markdown",
      "metadata": {
        "id": "NY3qmIjmBho8",
        "colab_type": "text"
      },
      "source": [
        "## Kwadratury Gaussa \n",
        "\n",
        "#### Zadanie 1\n",
        "Zaimplementuj całkowanie metodą Gaussa-Legendra stopnia 2 - 5.\n",
        "\n",
        "Wyznaczyć wartości całek dla funkcji:\n",
        "\n",
        "- $f(x) = 3x^3 - 1$ \n",
        "- $f(x) = 2 * x^2$\n",
        "- $f(x) = 4*sin(x)$ \n",
        "\n",
        "Oczywiście, oblicz dokładne wartości całek oznaczonych! Porównać dokładność uzyskanych rezultatów z dokładnym wynikiem oraz z kwadraturami z poprzedniego ćwiczenia.\n"
      ]
    },
    {
      "cell_type": "code",
      "metadata": {
        "id": "4WnjBhIRBho-",
        "colab_type": "code",
        "colab": {}
      },
      "source": [
        "from pylab import *\n",
        "from scipy.special.orthogonal import roots_legendre\n",
        "from tabulate import tabulate\n",
        "\"\"\"\n",
        "Funkcja roots_legendre zwraca miejsca zerowe wielomianu Legendre’a (rozwiązanie)\n",
        "oraz wartość współczynników kwadratury Gaussa dla stopnia n wielomianu Legendre’a \n",
        "\"\"\"\n",
        "\n",
        "\n",
        "def gauss_legendre_rule(f, n, a, b):\n",
        "    [x, w] = roots_legendre(n+1)\n",
        "    A = 0.5 * (b - a)\n",
        "    B = 0.5 * (b - a) * x + 0.5 * (b + a)\n",
        "    res = A * sum(w * np.vectorize(f)(B))\n",
        "    return res\n",
        "\n",
        "\n",
        "def rectangular_rule(f, a, b, n):\n",
        "    sum = 0.0\n",
        "    dx = float(b - a)/ n\n",
        "    for i in range(0, n):\n",
        "        sum = sum + f((a + (i * dx)))\n",
        "    return dx*sum\n",
        "\n",
        "\n",
        "def trapezoidal_rule(f, a, b, n):\n",
        "    dx = float(b - a) / n\n",
        "    sum = 0.0\n",
        "    sum += f(a)/2.0\n",
        "    for i in range(1, n):\n",
        "        sum += f(a + i*dx)\n",
        "    sum += f(b)/2.0\n",
        "    return sum * dx\n",
        "\n",
        "\n",
        "def simpson_rule(f, a, b, n):\n",
        "    dx = float(b - a) /n\n",
        "    sum = 0.0\n",
        "    x = a + dx\n",
        "    for i in range(1, int(n/2 + 1)):\n",
        "        sum += 4*f(x)\n",
        "        x += 2*dx\n",
        "\n",
        "    x = a + 2*dx\n",
        "    for i in range(1, int(n/2)):\n",
        "        sum += 2*f(x)\n",
        "        x += 2*dx\n",
        "    return (dx / 3)*(f(a) + f(b) + sum)\n",
        "\n",
        "\n",
        "f1 = lambda x: 3 * x**3 - 1\n",
        "f2 = lambda x: 2 * x**2\n",
        "f3 = lambda x: 4 * math.sin(x)\n"
      ],
      "execution_count": 0,
      "outputs": []
    },
    {
      "cell_type": "markdown",
      "metadata": {
        "id": "Wdox2hLNCz_d",
        "colab_type": "text"
      },
      "source": [
        "#Wyniki : \n",
        "Dokładna wartości pierwszej całki dla przedziału [-3, 10] :       \n",
        "![alt text](https://www4d.wolframalpha.com/Calculate/MSP/MSP11731hdb343a215dfbi600005i6i12fga11geehg?MSPStoreType=image/gif&s=18)\n"
      ]
    },
    {
      "cell_type": "code",
      "metadata": {
        "id": "Hh0Wp39LEIpI",
        "colab_type": "code",
        "colab": {
          "base_uri": "https://localhost:8080/",
          "height": 306
        },
        "outputId": "23d83556-1dab-413e-e332-8e027f25b6f2"
      },
      "source": [
        "f1_value = 7426.25\n",
        "results = [\n",
        "        ['Rectangular rule', rectangular_rule(f1, -3, 10, 100), abs(rectangular_rule(f1, -3, 10, 100)-f1_value)*100 / abs(f1_value) ],\n",
        "        ['Trapezoidal rule', trapezoidal_rule(f1, -3, 10, 100), abs(trapezoidal_rule(f1, -3, 10, 100)-f1_value)*100 / abs(f1_value) ],\n",
        "        ['Simpson rule', simpson_rule(f1, -3, 10, 100), abs(simpson_rule(f1, -3, 10, 100)-f1_value)*100 / abs(f1_value) ],    \n",
        "        ['Gauss-Legendre rule n=2', gauss_legendre_rule(f1, 2, -3, 10), abs(gauss_legendre_rule(f1, 2, -3, 10)-f1_value)*100 / abs(f1_value) ], \n",
        "        ['Gauss-Legendre rule n=3', gauss_legendre_rule(f1, 3, -3, 10), abs(gauss_legendre_rule(f1, 3, -3, 10)-f1_value)*100 / abs(f1_value) ], \n",
        "        ['Gauss-Legendre rule n=4', gauss_legendre_rule(f1, 4, -3, 10), abs(gauss_legendre_rule(f1, 4, -3, 10)-f1_value)*100 / abs(f1_value) ], \n",
        "        ['Gauss-Legendre rule n=5', gauss_legendre_rule(f1, 5, -3, 10), abs(gauss_legendre_rule(f1, 5, -3, 10)-f1_value)*100 / abs(f1_value) ],        \n",
        "]\n",
        "\n",
        "print(tabulate(results, headers=['L.P.', 'value', 'accuracy of calculations [%]'],\n",
        "                   tablefmt=\"fancy_grid\", floatfmt=\".10f\"))"
      ],
      "execution_count": 10,
      "outputs": [
        {
          "output_type": "stream",
          "text": [
            "╒═════════════════════════╤═════════════════╤════════════════════════════════╕\n",
            "│ L.P.                    │           value │   accuracy of calculations [%] │\n",
            "╞═════════════════════════╪═════════════════╪════════════════════════════════╡\n",
            "│ Rectangular rule        │ 7227.1384250000 │                   2.6811859956 │\n",
            "├─────────────────────────┼─────────────────┼────────────────────────────────┤\n",
            "│ Trapezoidal rule        │ 7427.4034250000 │                   0.0155317287 │\n",
            "├─────────────────────────┼─────────────────┼────────────────────────────────┤\n",
            "│ Simpson rule            │ 7426.2500000000 │                   0.0000000000 │\n",
            "├─────────────────────────┼─────────────────┼────────────────────────────────┤\n",
            "│ Gauss-Legendre rule n=2 │ 7426.2500000000 │                   0.0000000000 │\n",
            "├─────────────────────────┼─────────────────┼────────────────────────────────┤\n",
            "│ Gauss-Legendre rule n=3 │ 7426.2500000000 │                   0.0000000000 │\n",
            "├─────────────────────────┼─────────────────┼────────────────────────────────┤\n",
            "│ Gauss-Legendre rule n=4 │ 7426.2500000000 │                   0.0000000000 │\n",
            "├─────────────────────────┼─────────────────┼────────────────────────────────┤\n",
            "│ Gauss-Legendre rule n=5 │ 7426.2500000000 │                   0.0000000000 │\n",
            "╘═════════════════════════╧═════════════════╧════════════════════════════════╛\n"
          ],
          "name": "stdout"
        }
      ]
    },
    {
      "cell_type": "markdown",
      "metadata": {
        "id": "5iWUdMYGHvpm",
        "colab_type": "text"
      },
      "source": [
        "Dokładna wartości drugiej całki dla przedziału [-20, 12] :  \n",
        "![alt text](https://www5a.wolframalpha.com/Calculate/MSP/MSP12786133cbb51gg009ia7000037e4h7a2aid89h3c?MSPStoreType=image/gif&s=13)"
      ]
    },
    {
      "cell_type": "code",
      "metadata": {
        "id": "g0R1Rc9qH3F4",
        "colab_type": "code",
        "colab": {
          "base_uri": "https://localhost:8080/",
          "height": 306
        },
        "outputId": "589a4b1a-18b7-4604-af11-a8edcd42408f"
      },
      "source": [
        "f2_value = 6485.33333333333333333\n",
        "results = [\n",
        "        ['Rectangular rule', rectangular_rule(f2, -20, 12, 100), abs(rectangular_rule(f2, -20, 12, 100)-f2_value)*100 / abs(f2_value) ],\n",
        "        ['Trapezoidal rule', trapezoidal_rule(f2, -20, 12, 100), abs(trapezoidal_rule(f2, -20, 12, 100)-f2_value)*100 / abs(f2_value) ],\n",
        "        ['Simpson rule', simpson_rule(f2, -20, 12, 100), abs(simpson_rule(f2, -20, 12, 100)-f2_value)*100 / abs(f2_value) ],    \n",
        "        ['Gauss-Legendre rule n=2', gauss_legendre_rule(f2, 2, -20, 12), abs(gauss_legendre_rule(f2, 2, -20, 12)-f2_value)*100 / abs(f2_value) ], \n",
        "        ['Gauss-Legendre rule n=3', gauss_legendre_rule(f2, 3, -20, 12), abs(gauss_legendre_rule(f2, 3, -20, 12)-f2_value)*100 / abs(f2_value) ], \n",
        "        ['Gauss-Legendre rule n=4', gauss_legendre_rule(f2, 4, -20, 12), abs(gauss_legendre_rule(f2, 4, -20, 12)-f2_value)*100 / abs(f2_value) ], \n",
        "        ['Gauss-Legendre rule n=5', gauss_legendre_rule(f2, 5, -20, 12), abs(gauss_legendre_rule(f2, 5, -20, 12)-f2_value)*100 / abs(f2_value) ],        \n",
        "]\n",
        "\n",
        "print(tabulate(results, headers=['L.P.', 'value', 'accuracy of calculations [%]'],\n",
        "                   tablefmt=\"fancy_grid\", floatfmt=\".10f\"))"
      ],
      "execution_count": 14,
      "outputs": [
        {
          "output_type": "stream",
          "text": [
            "╒═════════════════════════╤═════════════════╤════════════════════════════════╕\n",
            "│ L.P.                    │           value │   accuracy of calculations [%] │\n",
            "╞═════════════════════════╪═════════════════╪════════════════════════════════╡\n",
            "│ Rectangular rule        │ 6568.3456000000 │                   1.2800000000 │\n",
            "├─────────────────────────┼─────────────────┼────────────────────────────────┤\n",
            "│ Trapezoidal rule        │ 6486.4256000000 │                   0.0168421053 │\n",
            "├─────────────────────────┼─────────────────┼────────────────────────────────┤\n",
            "│ Simpson rule            │ 6485.3333333333 │                   0.0000000000 │\n",
            "├─────────────────────────┼─────────────────┼────────────────────────────────┤\n",
            "│ Gauss-Legendre rule n=2 │ 6485.3333333333 │                   0.0000000000 │\n",
            "├─────────────────────────┼─────────────────┼────────────────────────────────┤\n",
            "│ Gauss-Legendre rule n=3 │ 6485.3333333333 │                   0.0000000000 │\n",
            "├─────────────────────────┼─────────────────┼────────────────────────────────┤\n",
            "│ Gauss-Legendre rule n=4 │ 6485.3333333333 │                   0.0000000000 │\n",
            "├─────────────────────────┼─────────────────┼────────────────────────────────┤\n",
            "│ Gauss-Legendre rule n=5 │ 6485.3333333333 │                   0.0000000000 │\n",
            "╘═════════════════════════╧═════════════════╧════════════════════════════════╛\n"
          ],
          "name": "stdout"
        }
      ]
    },
    {
      "cell_type": "markdown",
      "metadata": {
        "id": "uB2ZxD5RJT8S",
        "colab_type": "text"
      },
      "source": [
        "Dokładna wartości trzeciej całki dla przedziału [-30, 100] : \n",
        "\n",
        "![alt text](https://www5a.wolframalpha.com/Calculate/MSP/MSP2771c51h676i6ae0abe000053f2d5655462ibgh?MSPStoreType=image/gif&s=39)"
      ]
    },
    {
      "cell_type": "code",
      "metadata": {
        "id": "JEwgSiKvJd8D",
        "colab_type": "code",
        "colab": {
          "base_uri": "https://localhost:8080/",
          "height": 306
        },
        "outputId": "a7d23b55-09cb-419b-92d7-af457d57aa81"
      },
      "source": [
        "f3_value = -2.8323\n",
        "results = [\n",
        "        ['Rectangular rule', rectangular_rule(f3, -30, 100, 100), abs(rectangular_rule(f3, -30, 100, 100)-f3_value)*100 / abs(f3_value) ],\n",
        "        ['Trapezoidal rule', trapezoidal_rule(f3, -30, 100, 100), abs(trapezoidal_rule(f3, -30, 100, 100)-f3_value)*100 / abs(f3_value) ],\n",
        "        ['Simpson rule', simpson_rule(f3, -30, 100, 100), abs(simpson_rule(f3, -30, 100, 100)-f3_value)*100 / abs(f3_value) ],    \n",
        "        ['Gauss-Legendre rule n=2', gauss_legendre_rule(f3, 2, -30, 100), abs(gauss_legendre_rule(f3, 2, -30, 100)-f3_value)*100 / abs(f3_value) ], \n",
        "        ['Gauss-Legendre rule n=3', gauss_legendre_rule(f3, 3, -30, 100), abs(gauss_legendre_rule(f3, 3, -30, 100)-f3_value)*100 / abs(f3_value) ], \n",
        "        ['Gauss-Legendre rule n=4', gauss_legendre_rule(f3, 4, -30, 100), abs(gauss_legendre_rule(f3, 4, -30, 100)-f3_value)*100 / abs(f3_value) ], \n",
        "        ['Gauss-Legendre rule n=5', gauss_legendre_rule(f3, 5, -30, 100), abs(gauss_legendre_rule(f3, 5, -30, 100)-f3_value)*100 / abs(f3_value) ],        \n",
        "]\n",
        "\n",
        "print(tabulate(results, headers=['L.P.', 'value', 'accuracy of calculations [%]'],\n",
        "                   tablefmt=\"fancy_grid\", floatfmt=\".10f\"))"
      ],
      "execution_count": 18,
      "outputs": [
        {
          "output_type": "stream",
          "text": [
            "╒═════════════════════════╤═════════════════╤════════════════════════════════╕\n",
            "│ L.P.                    │           value │   accuracy of calculations [%] │\n",
            "╞═════════════════════════╪═════════════════╪════════════════════════════════╡\n",
            "│ Rectangular rule        │    1.4637482737 │                 151.6805519801 │\n",
            "├─────────────────────────┼─────────────────┼────────────────────────────────┤\n",
            "│ Trapezoidal rule        │   -2.4216846158 │                  14.4975950361 │\n",
            "├─────────────────────────┼─────────────────┼────────────────────────────────┤\n",
            "│ Simpson rule            │   -2.8881904559 │                   1.9733240099 │\n",
            "├─────────────────────────┼─────────────────┼────────────────────────────────┤\n",
            "│ Gauss-Legendre rule n=2 │ -222.2260648152 │                7746.1344072021 │\n",
            "├─────────────────────────┼─────────────────┼────────────────────────────────┤\n",
            "│ Gauss-Legendre rule n=3 │   79.3584102612 │                2901.9069399840 │\n",
            "├─────────────────────────┼─────────────────┼────────────────────────────────┤\n",
            "│ Gauss-Legendre rule n=4 │   70.1330434410 │                2576.1869661041 │\n",
            "├─────────────────────────┼─────────────────┼────────────────────────────────┤\n",
            "│ Gauss-Legendre rule n=5 │   82.1051096020 │                2998.8846379980 │\n",
            "╘═════════════════════════╧═════════════════╧════════════════════════════════╛\n"
          ],
          "name": "stdout"
        }
      ]
    },
    {
      "cell_type": "markdown",
      "metadata": {
        "id": "7fsTynJqKO13",
        "colab_type": "text"
      },
      "source": [
        "#### Zadanie 2 (dla chętnych)\n",
        "Zaimplementować pozostałe postacie (wystarczy jedną) kwadratury Gaussa (-Czebyszewa, -Laguerre, -Hermite)"
      ]
    }
  ]
}