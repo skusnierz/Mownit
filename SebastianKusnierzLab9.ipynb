{
  "nbformat": 4,
  "nbformat_minor": 0,
  "metadata": {
    "kernelspec": {
      "display_name": "Python 3",
      "language": "python",
      "name": "python3"
    },
    "language_info": {
      "codemirror_mode": {
        "name": "ipython",
        "version": 3
      },
      "file_extension": ".py",
      "mimetype": "text/x-python",
      "name": "python",
      "nbconvert_exporter": "python",
      "pygments_lexer": "ipython3",
      "version": "3.8.2"
    },
    "colab": {
      "name": "MOwNiT - lab. ćw. 9.ipynb",
      "provenance": [],
      "collapsed_sections": []
    }
  },
  "cells": [
    {
      "cell_type": "markdown",
      "metadata": {
        "id": "MdWKGCejw-_y",
        "colab_type": "text"
      },
      "source": [
        "## Rozwiązywanie układów równań liniowych \n",
        "\n",
        "#### Zadanie 1 \n",
        "Zaimplemenuj metodę eliminacji Gaussa bez pivotingu i z pivotingiem dla układu równań o dowolnym rozmiarze. \n",
        "\n",
        "\n",
        "\n"
      ]
    },
    {
      "cell_type": "markdown",
      "metadata": {
        "id": "wzSVWVsRsksF",
        "colab_type": "text"
      },
      "source": [
        "Poniższe algorytmy zaimplementowałem z dokładnością wyników do 6 miejsc znaczących oraz użyłem metody eliminacji Gaussa \n",
        "z częściowym wyborem elementu podstawowego (ang. partial pivoting).    \n"
      ]
    },
    {
      "cell_type": "code",
      "metadata": {
        "id": "r3NLLVm-w-_z",
        "colab_type": "code",
        "colab": {}
      },
      "source": [
        "import numpy as np\n",
        "\n",
        "\n",
        "def print_matrix(matrix):\n",
        "    for i in range(len(matrix)):\n",
        "        print(matrix[i])\n",
        "    print()\n",
        "\n",
        "\n",
        "def truncate(f, n):\n",
        "    return np.math.floor(f * 10 ** n) / 10 ** n\n",
        "\n",
        "\n",
        "def solve_equation(matrix, n):\n",
        "    x = [0 for i in range(n)]\n",
        "    for i in range(n - 1, -1, -1):\n",
        "        x[i] = truncate(matrix[i][n] / matrix[i][i], 5)\n",
        "        for k in range(i - 1, -1, -1):\n",
        "            matrix[k][n] -= truncate(matrix[k][i] * x[i], 5)\n",
        "    return x\n",
        "\n",
        "\n",
        "def gaussian_elimination_without_pivot(matrix):\n",
        "    n = len(matrix)\n",
        "    for i in range(n):\n",
        "        for k in range(i + 1, n):\n",
        "            c = -matrix[k][i] / matrix[i][i]\n",
        "            for j in range(i, n + 1):\n",
        "                if i == j:\n",
        "                    matrix[k][j] = 0\n",
        "                else:\n",
        "                    matrix[k][j] += truncate(c, 5) * truncate(matrix[i][j], 5)\n",
        "    return solve_equation(matrix, n)\n",
        "\n",
        "\n",
        "def gaussian_elimination_with_pivot(matrix):\n",
        "    n = len(matrix)\n",
        "    for i in range(0, n):\n",
        "        # partial pivoting\n",
        "        maxEl = abs(matrix[i][i])\n",
        "        maxRow = i\n",
        "        for k in range(i + 1, n):\n",
        "            if abs(matrix[k][i]) > maxEl:\n",
        "                maxEl = abs(matrix[k][i])\n",
        "                maxRow = k\n",
        "        #swap\n",
        "        for k in range(i, n + 1):\n",
        "            tmp = matrix[maxRow][k]\n",
        "            matrix[maxRow][k] = matrix[i][k]\n",
        "            matrix[i][k] = tmp\n",
        "        #---------------------    \n",
        "\n",
        "        for k in range(i + 1, n):\n",
        "            c = -matrix[k][i] / matrix[i][i]\n",
        "            for j in range(i, n + 1):\n",
        "                if i == j:\n",
        "                    matrix[k][j] = 0\n",
        "                else:\n",
        "                    matrix[k][j] += truncate(c, 5) * truncate(matrix[i][j], 5)\n",
        "    return solve_equation(matrix, n)\n"
      ],
      "execution_count": 0,
      "outputs": []
    },
    {
      "cell_type": "markdown",
      "metadata": {
        "id": "GddUovtFoJhl",
        "colab_type": "text"
      },
      "source": [
        "#### Zadanie 2\n",
        "Zademonstruj działanie algorytmu na macierzy o rozmiarze 5 x 5. Zademonstruj w jakiej sytuacji potrzebny jest pivoting i jak działa. \n",
        "\n"
      ]
    },
    {
      "cell_type": "markdown",
      "metadata": {
        "id": "Kw8p9cAo0hWI",
        "colab_type": "text"
      },
      "source": [
        "**Pivotingiem** nazywamy wybór elementu podstawowego ***a*** macierzy ***A***.    \n",
        "**Elementem podstawowym** nazywamy ten element macierzy ***A***,\n",
        "za pomocą którego eliminujemy zmienną z dalszych równań.\n",
        "W metodzie bez pivotingu jako elementy podstawowe wybiera się element\n",
        "leżący na diagonali :    \n",
        "$a_{ii}$   \n",
        "Stosując częściowy wybór elementu podstawowego wybieramy\n",
        "ten z elementów ***k-tej*** kolumny w ***k-tej*** macierzy, który ma\n",
        "największy moduł. Przez zmianę kolejności wierszy w macierzy\n",
        "można uzyskać element podstawowy leżący na diagonali."
      ]
    },
    {
      "cell_type": "code",
      "metadata": {
        "id": "X971pTinvqrR",
        "colab_type": "code",
        "outputId": "f070c1d9-70f3-4314-d211-17f9aa74daf1",
        "colab": {
          "base_uri": "https://localhost:8080/",
          "height": 51
        }
      },
      "source": [
        "m = [[2, -0.00001, 0.0001, 2.00001, 0, 3.002],\n",
        "     [-3, -2.099, 6.00001, 3.2101, 1, 1],\n",
        "     [3, 3, 2.0601, 2.12311, 7, 2],\n",
        "     [2, -1, 6.00001, 3.90001, 7, 8],\n",
        "     [5, -1, 5, 6, 2, 1]]\n",
        "\n",
        "m1 = [[2, -0.00001, 0.0001, 2.00001, 0, 3.002],\n",
        "      [-3, -2.099, 6.00001, 3.2101, 1, 1],\n",
        "      [3, 3, 2.0601, 2.12311, 7, 2],\n",
        "      [2, -1, 6.00001, 3.90001, 7, 8],\n",
        "      [5, -1, 5, 6, 2, 1]]\n",
        "\n",
        "try:\n",
        "    print(gaussian_elimination_without_pivot(m))\n",
        "except ZeroDivisionError as e:\n",
        "    print(\"Nie wolno dzielić przez 0, sprawdz czy macierz jest poprawna\")\n",
        "\n",
        "try:\n",
        "    print(gaussian_elimination_with_pivot(m1))\n",
        "except ZeroDivisionError as e:\n",
        "    print(\"Nie wolno dzielić przez 0, sprawdz czy macierz jest poprawna\")"
      ],
      "execution_count": 10,
      "outputs": [
        {
          "output_type": "stream",
          "text": [
            "[-1.23615, -3.4719, -3.55016, 2.7373, 2.51802]\n",
            "[-1.23632, -3.47197, -3.55045, 2.7376, 2.51813]\n"
          ],
          "name": "stdout"
        }
      ]
    },
    {
      "cell_type": "markdown",
      "metadata": {
        "id": "iLHJDU-Zv9FS",
        "colab_type": "text"
      },
      "source": [
        "Pivoting stosujemy, aby :\n",
        "- zapobiec dzielenia przez 0, dzielenie przez 0 występuje gdy element podstawowy macierzy $a_{ii}$ jest równy 0, np. dla przykładu macierzy poniżej widzimy, że wartości nie zostanie obliczona gdy nie zastosujemy pivotingu."
      ]
    },
    {
      "cell_type": "code",
      "metadata": {
        "id": "D9eojaykxKtx",
        "colab_type": "code",
        "outputId": "b926d785-07d1-4e75-e932-dab187eeb6ec",
        "colab": {
          "base_uri": "https://localhost:8080/",
          "height": 51
        }
      },
      "source": [
        "m = [[0, -0.00001, 0.0001, 2.00001, 0, 3.002],\n",
        "     [-3, -2.099, 6.00001, 3.2101, 1, 1],\n",
        "     [3, 3, 2.0601, 2.12311, 7, 2],\n",
        "     [2, -1, 6.00001, 3.90001, 7, 8],\n",
        "     [5, -1, 5, 6, 2, 1]]\n",
        "\n",
        "m1 = [[0, -0.00001, 0.0001, 2.00001, 0, 3.002],\n",
        "      [-3, -2.099, 6.00001, 3.2101, 1, 1],\n",
        "      [3, 3, 2.0601, 2.12311, 7, 2],\n",
        "      [2, -1, 6.00001, 3.90001, 7, 8],\n",
        "      [5, -1, 5, 6, 2, 1]]\n",
        "\n",
        "try:\n",
        "    print(gaussian_elimination_without_pivot(m))\n",
        "except ZeroDivisionError as e:\n",
        "    print(\"Nie wolno dzielić przez 0, sprawdz czy macierz jest poprawna\")\n",
        "\n",
        "try:\n",
        "    print(gaussian_elimination_with_pivot(m1))\n",
        "except ZeroDivisionError as e:\n",
        "    print(\"Nie wolno dzielić przez 0, sprawdz czy macierz jest poprawna\")"
      ],
      "execution_count": 11,
      "outputs": [
        {
          "output_type": "stream",
          "text": [
            "Nie wolno dzielić przez 0, sprawdz czy macierz jest poprawna\n",
            "[-0.67047, -3.00245, -2.37255, 1.50119, 2.10275]\n"
          ],
          "name": "stdout"
        }
      ]
    },
    {
      "cell_type": "markdown",
      "metadata": {
        "id": "M8pSbg5c9Gpg",
        "colab_type": "text"
      },
      "source": [
        "- zminiejszyć błąd numeryczny, element podstawowy służy nam do wyliczenia wartości niewiadomej przy podstawianiu wstecznym, dokładniej dzielimy przez element podstawowy aby wyliczyć wartości niewiadomej to wyliczenie jest obarczone błędem ten błąd jest tym większy im mniejsza jest wartości wybranego elementu podstawowego, dlatego element podstawowy wybieramy jako niajwiekszą wartości z możliwych w celu zmniejszenia tego błędu."
      ]
    },
    {
      "cell_type": "code",
      "metadata": {
        "id": "LfLFNBiTY9uW",
        "colab_type": "code",
        "colab": {
          "base_uri": "https://localhost:8080/",
          "height": 51
        },
        "outputId": "17781d83-278e-495e-d7b5-e46622b1503f"
      },
      "source": [
        "m = [[2, -0.00001, 0.0001, 2.00001, 0, 3.002],\n",
        "     [-3, -2.099, 6.00001, 3.2101, 1, 1],\n",
        "     [3, 3, 2.0601, 2.12311, 7, 2],\n",
        "     [2, -1, 6.00001, 3.90001, 7, 8],\n",
        "     [5, -1, 5, 6, 2, 1]]\n",
        "\n",
        "m1 = [[2, -0.00001, 0.0001, 2.00001, 0, 3.002],\n",
        "      [-3, -2.099, 6.00001, 3.2101, 1, 1],\n",
        "      [3, 3, 2.0601, 2.12311, 7, 2],\n",
        "      [2, -1, 6.00001, 3.90001, 7, 8],\n",
        "      [5, -1, 5, 6, 2, 1]]\n",
        "\n",
        "try:\n",
        "    print(\"Bez pivota : {}\".format(gaussian_elimination_without_pivot(m)))\n",
        "except ZeroDivisionError as e:\n",
        "    print(\"Nie wolno dzielić przez 0, sprawdz czy macierz jest poprawna\")\n",
        "\n",
        "try:\n",
        "    print(\"Z wykorzystaniem pivota : {}\".format(gaussian_elimination_with_pivot(m1)))\n",
        "except ZeroDivisionError as e:\n",
        "    print(\"Nie wolno dzielić przez 0, sprawdz czy macierz jest poprawna\")"
      ],
      "execution_count": 12,
      "outputs": [
        {
          "output_type": "stream",
          "text": [
            "Bez pivota : [-1.23615, -3.4719, -3.55016, 2.7373, 2.51802]\n",
            "Z wykorzystaniem pivota : [-1.23632, -3.47197, -3.55045, 2.7376, 2.51813]\n"
          ],
          "name": "stdout"
        }
      ]
    },
    {
      "cell_type": "markdown",
      "metadata": {
        "id": "KJ-z3ACzoKkL",
        "colab_type": "text"
      },
      "source": [
        "#### Zadanie 3\n",
        "Podaj teorytyczną złożoność obliczeniową algorytmu eliminacji Gaussa. Przeprowadź testy wydajności swojego algorytmu sprawdzając jego działanie dla różnych rozmiarów macierzy (testy powinny być wykonane poza środowiskiem jupyter). Aby wygenerować układ równań, wygeneruj wektor rozwiązań i macierz współczynników losując wartości (skorzystaj z funkcji poznanych w Ćwiczeniu 2) i następnie oblicz wektor wyrazów wolnych. "
      ]
    },
    {
      "cell_type": "markdown",
      "metadata": {
        "id": "x3nUi8G0S4km",
        "colab_type": "text"
      },
      "source": [
        "Złożoności obliczeniowa : $O(n^{3})$    \n",
        "Liczba działań mnożenia i dzielenia : $\\frac{1}{3} * (n^{3} + 3 n^{2} - n)$   \n",
        "Liczba działań dodawania i odejmowania : $\\frac{1}{6} * (2n^{3} + 3n^{2} - 5n)$"
      ]
    },
    {
      "cell_type": "markdown",
      "metadata": {
        "id": "VGJWbCvFqHiF",
        "colab_type": "text"
      },
      "source": [
        "**Funkcje testujące :**"
      ]
    },
    {
      "cell_type": "code",
      "metadata": {
        "id": "kiYX7IGIqDJF",
        "colab_type": "code",
        "colab": {}
      },
      "source": [
        "#Tworzy wektor o podanym rozmiarze size oraz liczby będą losowane z zakresu [min, max]\n",
        "def create_rand_vector(min, max, size):\n",
        "    return np.random.randint(low=min, high=max+1, size=(size,))\n",
        "\n",
        "\n",
        "#Tworzy macierz o podanym rozmiarze cols na rows oraz liczby będą losowane z zakresu [min, max]\n",
        "def create_rand_matrix(min, max, cols, rows):\n",
        "    return np.random.randint(low=min, high=max + 1, size=(rows, cols))\n",
        "\n",
        "\n",
        "def test_gaussian_elimination_without_pivot(min, max, N):\n",
        "    A, X = create_rand_matrix(min, max, N, N), create_rand_vector(min, max, N)\n",
        "    matrix = np.c_[A, X]\n",
        "    start_time = time.time()\n",
        "    gaussian_elimination_without_pivot(matrix)\n",
        "    print(\"--- %s seconds ---\" % (time.time() - start_time))\n",
        "\n",
        "\n",
        "def test_gaussian_elimination_with_pivot(min, max, N):\n",
        "    A, X = create_rand_matrix(min, max, N, N), create_rand_vector(min, max, N)\n",
        "    matrix = np.c_[A, X]\n",
        "    start_time = time.time()\n",
        "    gaussian_elimination_with_pivot(matrix)\n",
        "    print(\"--- %s seconds ---\" % (time.time() - start_time))"
      ],
      "execution_count": 0,
      "outputs": []
    },
    {
      "cell_type": "markdown",
      "metadata": {
        "id": "GwTufDMYkhnE",
        "colab_type": "text"
      },
      "source": [
        "Poniższe testy wykonałem na komputerze o parametrach :    \n",
        "**Procesor** : Intel® Core™ i5-8265U CPU @ 1.60GHz × 8    \n",
        "**Pamięć** : 15,4 GiB\n",
        "\n",
        "Wartości poszczególnych komórek macierzy zostały wylosowane z przedziału [0, 500]\n",
        "\n",
        "***Wyniki testów :***\n",
        "-  Przy użyciu pivotingu :\n",
        "\n",
        ">| L.P.  | Wielkość macierzy | Czas w sekundach|    \n",
        ">| ------------- | ------------- | -----------   |\n",
        ">| 1 | 100x100  | 1.480116367340088  |\n",
        ">| 2 | 150x150  | 5.169125795364380  |\n",
        ">| 3 | 200x200  | 11.79253888130188  |\n",
        ">| 4 | 300x300  | 40.08900046348572  |\n",
        ">| 5 | 500x500  | 186.41721081733704  |\n",
        "\n",
        "- Bez pivotingu :\n",
        "\n",
        ">| L.P.  | Wielkość macierzy | Czas w sekundach|    \n",
        ">| ------------- | ------------- | -----------   |\n",
        ">| 1 | 100x100  | 1.4085081768035889  |\n",
        ">| 2 | 150x150  | 4.774335622787476  |\n",
        ">| 3 | 200x200  | 11.741624355316162  |\n",
        ">| 4 | 300x300  | 38.017778158187866  |\n",
        ">| 5 | 500x500  | 181.03601050376892  |\n",
        "\n",
        "\n",
        "Z powyższych tabeli widzimy, że algorytm bez pivotingu działa szybciej, tak jak oczekiwałem, ta różnica czasu wynika z wyznaczenia pivotu, czyli w moim przypadku największej warości.\n",
        "\n",
        "\n",
        "\n"
      ]
    }
  ]
}